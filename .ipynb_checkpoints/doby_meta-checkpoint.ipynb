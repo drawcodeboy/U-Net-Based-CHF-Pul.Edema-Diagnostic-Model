{
 "cells": [
  {
   "cell_type": "code",
   "execution_count": 1,
   "id": "954bff16-3444-4d23-b8f0-f72645dad51a",
   "metadata": {
    "execution": {
     "iopub.execute_input": "2024-01-19T00:38:16.429998Z",
     "iopub.status.busy": "2024-01-19T00:38:16.428003Z",
     "iopub.status.idle": "2024-01-19T00:38:18.252133Z",
     "shell.execute_reply": "2024-01-19T00:38:18.251135Z",
     "shell.execute_reply.started": "2024-01-19T00:38:16.429998Z"
    }
   },
   "outputs": [],
   "source": [
    "import pandas as pd\n",
    "import matplotlib.pyplot as plt\n",
    "import os\n",
    "os.environ['KMP_DUPLICATE_LIB_OK'] = 'True'"
   ]
  },
  {
   "cell_type": "code",
   "execution_count": 6,
   "id": "ea7e2d40-a9b9-4a68-8a15-9d27cea29b2c",
   "metadata": {
    "execution": {
     "iopub.execute_input": "2024-01-19T00:44:18.474366Z",
     "iopub.status.busy": "2024-01-19T00:44:18.474366Z",
     "iopub.status.idle": "2024-01-19T00:44:19.498612Z",
     "shell.execute_reply": "2024-01-19T00:44:19.497621Z",
     "shell.execute_reply.started": "2024-01-19T00:44:18.474366Z"
    }
   },
   "outputs": [],
   "source": [
    "cxr_meta = pd.read_csv('./physionet.org/files/mimic-cxr-jpg/2.0.0/files/mimic-cxr-2.0.0-metadata.csv')"
   ]
  },
  {
   "cell_type": "code",
   "execution_count": 7,
   "id": "68b8bdb4-eef5-49ea-bbd5-dd84bfc6c0c3",
   "metadata": {
    "execution": {
     "iopub.execute_input": "2024-01-19T00:44:19.501606Z",
     "iopub.status.busy": "2024-01-19T00:44:19.500607Z",
     "iopub.status.idle": "2024-01-19T00:44:19.977333Z",
     "shell.execute_reply": "2024-01-19T00:44:19.975338Z",
     "shell.execute_reply.started": "2024-01-19T00:44:19.501606Z"
    }
   },
   "outputs": [
    {
     "name": "stdout",
     "output_type": "stream",
     "text": [
      "<class 'pandas.core.frame.DataFrame'>\n",
      "RangeIndex: 377110 entries, 0 to 377109\n",
      "Data columns (total 12 columns):\n",
      " #   Column                                      Non-Null Count   Dtype  \n",
      "---  ------                                      --------------   -----  \n",
      " 0   dicom_id                                    377110 non-null  object \n",
      " 1   subject_id                                  377110 non-null  int64  \n",
      " 2   study_id                                    377110 non-null  int64  \n",
      " 3   PerformedProcedureStepDescription           341598 non-null  object \n",
      " 4   ViewPosition                                361341 non-null  object \n",
      " 5   Rows                                        377110 non-null  int64  \n",
      " 6   Columns                                     377110 non-null  int64  \n",
      " 7   StudyDate                                   377110 non-null  int64  \n",
      " 8   StudyTime                                   377110 non-null  float64\n",
      " 9   ProcedureCodeSequence_CodeMeaning           377110 non-null  object \n",
      " 10  ViewCodeSequence_CodeMeaning                360613 non-null  object \n",
      " 11  PatientOrientationCodeSequence_CodeMeaning  335944 non-null  object \n",
      "dtypes: float64(1), int64(5), object(6)\n",
      "memory usage: 34.5+ MB\n"
     ]
    }
   ],
   "source": [
    "cxr_meta.info()"
   ]
  },
  {
   "cell_type": "code",
   "execution_count": 8,
   "id": "dd579f90-c7fe-432f-a877-7187a783c6c3",
   "metadata": {
    "execution": {
     "iopub.execute_input": "2024-01-19T00:44:20.650533Z",
     "iopub.status.busy": "2024-01-19T00:44:20.649545Z",
     "iopub.status.idle": "2024-01-19T00:44:21.531187Z",
     "shell.execute_reply": "2024-01-19T00:44:21.530192Z",
     "shell.execute_reply.started": "2024-01-19T00:44:20.650533Z"
    }
   },
   "outputs": [
    {
     "name": "stdout",
     "output_type": "stream",
     "text": [
      "<class 'pandas.core.frame.DataFrame'>\n",
      "RangeIndex: 377097 entries, 0 to 377096\n",
      "Data columns (total 8 columns):\n",
      " #   Column            Non-Null Count   Dtype \n",
      "---  ------            --------------   ----- \n",
      " 0   dicom_id          377097 non-null  object\n",
      " 1   study_id          377097 non-null  int64 \n",
      " 2   subject_id        377097 non-null  int64 \n",
      " 3   gender            377097 non-null  object\n",
      " 4   report_available  377097 non-null  bool  \n",
      " 5   dicom_available   377097 non-null  bool  \n",
      " 6   CHF               377097 non-null  bool  \n",
      " 7   view              377097 non-null  object\n",
      "dtypes: bool(3), int64(2), object(3)\n",
      "memory usage: 15.5+ MB\n"
     ]
    }
   ],
   "source": [
    "chf_meta = pd.read_csv('./pulmonary-edema-severity-grades-based-on-mimic-cxr-1.0.1/pulmonary-edema-severity-grades-based-on-mimic-cxr-1.0.1/auxiliary_metadata/mimic_cxr_metadata_available_CHF_view.csv')\n",
    "chf_meta.info()"
   ]
  },
  {
   "cell_type": "code",
   "execution_count": 9,
   "id": "132fb26f-7788-422a-8ac2-3e9b24e8fd85",
   "metadata": {
    "execution": {
     "iopub.execute_input": "2024-01-19T00:45:50.038623Z",
     "iopub.status.busy": "2024-01-19T00:45:50.037626Z",
     "iopub.status.idle": "2024-01-19T00:45:51.395004Z",
     "shell.execute_reply": "2024-01-19T00:45:51.394009Z",
     "shell.execute_reply.started": "2024-01-19T00:45:50.038623Z"
    }
   },
   "outputs": [
    {
     "name": "stdout",
     "output_type": "stream",
     "text": [
      "<class 'pandas.core.frame.DataFrame'>\n",
      "Int64Index: 377070 entries, 0 to 377069\n",
      "Data columns (total 17 columns):\n",
      " #   Column                                      Non-Null Count   Dtype  \n",
      "---  ------                                      --------------   -----  \n",
      " 0   dicom_id                                    377070 non-null  object \n",
      " 1   subject_id                                  377070 non-null  int64  \n",
      " 2   study_id                                    377070 non-null  int64  \n",
      " 3   PerformedProcedureStepDescription           341558 non-null  object \n",
      " 4   ViewPosition                                361304 non-null  object \n",
      " 5   Rows                                        377070 non-null  int64  \n",
      " 6   Columns                                     377070 non-null  int64  \n",
      " 7   StudyDate                                   377070 non-null  int64  \n",
      " 8   StudyTime                                   377070 non-null  float64\n",
      " 9   ProcedureCodeSequence_CodeMeaning           377070 non-null  object \n",
      " 10  ViewCodeSequence_CodeMeaning                360577 non-null  object \n",
      " 11  PatientOrientationCodeSequence_CodeMeaning  335912 non-null  object \n",
      " 12  gender                                      377070 non-null  object \n",
      " 13  report_available                            377070 non-null  bool   \n",
      " 14  dicom_available                             377070 non-null  bool   \n",
      " 15  CHF                                         377070 non-null  bool   \n",
      " 16  view                                        377070 non-null  object \n",
      "dtypes: bool(3), float64(1), int64(5), object(8)\n",
      "memory usage: 44.2+ MB\n"
     ]
    }
   ],
   "source": [
    "cxr_meta = pd.merge(cxr_meta, chf_meta, on=['dicom_id', 'study_id', 'subject_id'], how='inner')\n",
    "cxr_meta.info()"
   ]
  },
  {
   "cell_type": "code",
   "execution_count": 10,
   "id": "44e5004b-7346-4a5c-99fc-127ed0587077",
   "metadata": {
    "execution": {
     "iopub.execute_input": "2024-01-19T00:48:08.200356Z",
     "iopub.status.busy": "2024-01-19T00:48:08.200356Z",
     "iopub.status.idle": "2024-01-19T00:48:08.832664Z",
     "shell.execute_reply": "2024-01-19T00:48:08.831668Z",
     "shell.execute_reply.started": "2024-01-19T00:48:08.200356Z"
    }
   },
   "outputs": [
    {
     "name": "stdout",
     "output_type": "stream",
     "text": [
      "<class 'pandas.core.frame.DataFrame'>\n",
      "Int64Index: 247399 entries, 0 to 377068\n",
      "Data columns (total 17 columns):\n",
      " #   Column                                      Non-Null Count   Dtype  \n",
      "---  ------                                      --------------   -----  \n",
      " 0   dicom_id                                    247399 non-null  object \n",
      " 1   subject_id                                  247399 non-null  int64  \n",
      " 2   study_id                                    247399 non-null  int64  \n",
      " 3   PerformedProcedureStepDescription           229274 non-null  object \n",
      " 4   ViewPosition                                237406 non-null  object \n",
      " 5   Rows                                        247399 non-null  int64  \n",
      " 6   Columns                                     247399 non-null  int64  \n",
      " 7   StudyDate                                   247399 non-null  int64  \n",
      " 8   StudyTime                                   247399 non-null  float64\n",
      " 9   ProcedureCodeSequence_CodeMeaning           247399 non-null  object \n",
      " 10  ViewCodeSequence_CodeMeaning                237167 non-null  object \n",
      " 11  PatientOrientationCodeSequence_CodeMeaning  213384 non-null  object \n",
      " 12  gender                                      247399 non-null  object \n",
      " 13  report_available                            247399 non-null  bool   \n",
      " 14  dicom_available                             247399 non-null  bool   \n",
      " 15  CHF                                         247399 non-null  bool   \n",
      " 16  view                                        247399 non-null  object \n",
      "dtypes: bool(3), float64(1), int64(5), object(8)\n",
      "memory usage: 29.0+ MB\n"
     ]
    }
   ],
   "source": [
    "cxr_meta = cxr_meta[(cxr_meta['report_available'] == True) & (cxr_meta['dicom_available'] == True) & (cxr_meta['view'] == 'frontal')]\n",
    "cxr_meta.info()"
   ]
  },
  {
   "cell_type": "code",
   "execution_count": 12,
   "id": "0b2eaff5-e623-4a3f-b117-8360aa43f065",
   "metadata": {
    "execution": {
     "iopub.execute_input": "2024-01-19T00:49:43.655229Z",
     "iopub.status.busy": "2024-01-19T00:49:43.654231Z",
     "iopub.status.idle": "2024-01-19T00:49:43.751971Z",
     "shell.execute_reply": "2024-01-19T00:49:43.749978Z",
     "shell.execute_reply.started": "2024-01-19T00:49:43.655229Z"
    }
   },
   "outputs": [
    {
     "name": "stdout",
     "output_type": "stream",
     "text": [
      "<class 'pandas.core.frame.DataFrame'>\n",
      "Int64Index: 247399 entries, 0 to 377068\n",
      "Data columns (total 4 columns):\n",
      " #   Column      Non-Null Count   Dtype \n",
      "---  ------      --------------   ----- \n",
      " 0   dicom_id    247399 non-null  object\n",
      " 1   subject_id  247399 non-null  int64 \n",
      " 2   study_id    247399 non-null  int64 \n",
      " 3   CHF         247399 non-null  bool  \n",
      "dtypes: bool(1), int64(2), object(1)\n",
      "memory usage: 7.8+ MB\n"
     ]
    }
   ],
   "source": [
    "cxr_meta = cxr_meta[['dicom_id', 'subject_id', 'study_id', 'CHF']]\n",
    "cxr_meta.info()"
   ]
  },
  {
   "cell_type": "code",
   "execution_count": 13,
   "id": "8de3579e-6bd2-4c94-b2a2-db1995715459",
   "metadata": {
    "execution": {
     "iopub.execute_input": "2024-01-19T00:49:57.522170Z",
     "iopub.status.busy": "2024-01-19T00:49:57.521174Z",
     "iopub.status.idle": "2024-01-19T00:49:57.733602Z",
     "shell.execute_reply": "2024-01-19T00:49:57.732605Z",
     "shell.execute_reply.started": "2024-01-19T00:49:57.522170Z"
    }
   },
   "outputs": [
    {
     "name": "stdout",
     "output_type": "stream",
     "text": [
      "<class 'pandas.core.frame.DataFrame'>\n",
      "RangeIndex: 7137 entries, 0 to 7136\n",
      "Data columns (total 6 columns):\n",
      " #   Column          Non-Null Count  Dtype \n",
      "---  ------          --------------  ----- \n",
      " 0   subject_id      7137 non-null   int64 \n",
      " 1   study_id        7137 non-null   int64 \n",
      " 2   dicom_id        7137 non-null   object\n",
      " 3   DicomPath       7137 non-null   object\n",
      " 4   edema_severity  7137 non-null   int64 \n",
      " 5   normal          7137 non-null   int64 \n",
      "dtypes: int64(4), object(2)\n",
      "memory usage: 334.7+ KB\n"
     ]
    }
   ],
   "source": [
    "doby_meta = pd.read_csv('./doby_demo_metadata.csv')\n",
    "doby_meta.info()"
   ]
  },
  {
   "cell_type": "code",
   "execution_count": 14,
   "id": "5e014f5a-8302-4026-af33-97527db29085",
   "metadata": {
    "execution": {
     "iopub.execute_input": "2024-01-19T00:50:12.733517Z",
     "iopub.status.busy": "2024-01-19T00:50:12.731520Z",
     "iopub.status.idle": "2024-01-19T00:50:12.917030Z",
     "shell.execute_reply": "2024-01-19T00:50:12.916031Z",
     "shell.execute_reply.started": "2024-01-19T00:50:12.733517Z"
    }
   },
   "outputs": [
    {
     "name": "stdout",
     "output_type": "stream",
     "text": [
      "<class 'pandas.core.frame.DataFrame'>\n",
      "Int64Index: 7064 entries, 0 to 7063\n",
      "Data columns (total 7 columns):\n",
      " #   Column          Non-Null Count  Dtype \n",
      "---  ------          --------------  ----- \n",
      " 0   subject_id      7064 non-null   int64 \n",
      " 1   study_id        7064 non-null   int64 \n",
      " 2   dicom_id        7064 non-null   object\n",
      " 3   DicomPath       7064 non-null   object\n",
      " 4   edema_severity  7064 non-null   int64 \n",
      " 5   normal          7064 non-null   int64 \n",
      " 6   CHF             7064 non-null   bool  \n",
      "dtypes: bool(1), int64(4), object(2)\n",
      "memory usage: 393.2+ KB\n"
     ]
    }
   ],
   "source": [
    "doby_meta = pd.merge(doby_meta, cxr_meta, on=['subject_id', 'study_id', 'dicom_id'], how='inner')\n",
    "doby_meta.info()"
   ]
  },
  {
   "cell_type": "code",
   "execution_count": 20,
   "id": "0c78f83b-25b6-4878-85fa-34891d24afb0",
   "metadata": {
    "execution": {
     "iopub.execute_input": "2024-01-19T00:53:41.402793Z",
     "iopub.status.busy": "2024-01-19T00:53:41.401796Z",
     "iopub.status.idle": "2024-01-19T00:53:41.415759Z",
     "shell.execute_reply": "2024-01-19T00:53:41.413770Z",
     "shell.execute_reply.started": "2024-01-19T00:53:41.402793Z"
    }
   },
   "outputs": [
    {
     "data": {
      "text/plain": [
       "0"
      ]
     },
     "execution_count": 20,
     "metadata": {},
     "output_type": "execute_result"
    }
   ],
   "source": [
    "(doby_meta['CHF'] == False).sum()"
   ]
  },
  {
   "cell_type": "code",
   "execution_count": 22,
   "id": "74e6fd6a-934c-4f02-a591-f774de49320f",
   "metadata": {
    "execution": {
     "iopub.execute_input": "2024-01-19T00:54:43.197633Z",
     "iopub.status.busy": "2024-01-19T00:54:43.196637Z",
     "iopub.status.idle": "2024-01-19T00:54:43.290384Z",
     "shell.execute_reply": "2024-01-19T00:54:43.289390Z",
     "shell.execute_reply.started": "2024-01-19T00:54:43.197633Z"
    }
   },
   "outputs": [],
   "source": [
    "doby_meta.to_csv('./doby_meta.csv', index=False)"
   ]
  },
  {
   "cell_type": "code",
   "execution_count": 23,
   "id": "d9762bb2-3868-417f-b8a7-f21539069d9f",
   "metadata": {
    "execution": {
     "iopub.execute_input": "2024-01-19T00:59:06.787128Z",
     "iopub.status.busy": "2024-01-19T00:59:06.786131Z",
     "iopub.status.idle": "2024-01-19T00:59:06.853950Z",
     "shell.execute_reply": "2024-01-19T00:59:06.851966Z",
     "shell.execute_reply.started": "2024-01-19T00:59:06.787128Z"
    }
   },
   "outputs": [
    {
     "name": "stdout",
     "output_type": "stream",
     "text": [
      "<class 'pandas.core.frame.DataFrame'>\n",
      "RangeIndex: 7064 entries, 0 to 7063\n",
      "Data columns (total 7 columns):\n",
      " #   Column          Non-Null Count  Dtype \n",
      "---  ------          --------------  ----- \n",
      " 0   subject_id      7064 non-null   int64 \n",
      " 1   study_id        7064 non-null   int64 \n",
      " 2   dicom_id        7064 non-null   object\n",
      " 3   DicomPath       7064 non-null   object\n",
      " 4   edema_severity  7064 non-null   int64 \n",
      " 5   normal          7064 non-null   int64 \n",
      " 6   CHF             7064 non-null   bool  \n",
      "dtypes: bool(1), int64(4), object(2)\n",
      "memory usage: 338.1+ KB\n"
     ]
    }
   ],
   "source": [
    "meta = pd.read_csv('./doby_meta.csv')\n",
    "meta.info()"
   ]
  },
  {
   "cell_type": "code",
   "execution_count": 24,
   "id": "342462ba-9031-4ee9-b03f-bd7f7392992e",
   "metadata": {
    "execution": {
     "iopub.execute_input": "2024-01-19T00:59:26.016733Z",
     "iopub.status.busy": "2024-01-19T00:59:26.015736Z",
     "iopub.status.idle": "2024-01-19T00:59:26.399709Z",
     "shell.execute_reply": "2024-01-19T00:59:26.398713Z",
     "shell.execute_reply.started": "2024-01-19T00:59:26.016733Z"
    }
   },
   "outputs": [
    {
     "data": {
      "image/png": "[encoded data removed]",
      "text/plain": [
       "<Figure size 640x480 with 1 Axes>"
      ]
     },
     "metadata": {},
     "output_type": "display_data"
    }
   ],
   "source": [
    "plt.hist(meta['normal'])\n",
    "plt.show()"
   ]
  }
 ],
 "metadata": {
  "kernelspec": {
   "display_name": "Python 3 (ipykernel)",
   "language": "python",
   "name": "python3"
  },
  "language_info": {
   "codemirror_mode": {
    "name": "ipython",
    "version": 3
   },
   "file_extension": ".py",
   "mimetype": "text/x-python",
   "name": "python",
   "nbconvert_exporter": "python",
   "pygments_lexer": "ipython3",
   "version": "3.10.9"
  }
 },
 "nbformat": 4,
 "nbformat_minor": 5
}
