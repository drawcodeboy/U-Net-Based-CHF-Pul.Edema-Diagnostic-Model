import torch
from torch import nn
from torchvision import transforms
from torchvision import models
import matplotlib.pyplot as plt
from PIL import Image
from PIL import ImageFilter
from PIL import ImageOps
from torch.utils.data import Dataset
from torch.utils.data import DataLoader
from torch.utils.data import random_split
from torch.optim.lr_scheduler import ReduceLROnPlateau
from copy import copy
from copy import deepcopy
import cv2
import sys
import os
import pandas as pd
import numpy as np
import random
from pathlib import Path

os.environ['KMP_DUPLICATE_LIB_OK'] = 'True' # dead kernel for matplotlib


seg_path = '../chest-x-ray-dataset-with-lung-segmentation-1.0.0/chest-x-ray-dataset-with-lung-segmentation-1.0.0/files/p10/p10000032/s50414267/02aa804e-bde0afdd-112c0b34-7bc16630-4e384014.jpg'
seg_mask_path = '../chest-x-ray-dataset-with-lung-segmentation-1.0.0/chest-x-ray-dataset-with-lung-segmentation-1.0.0/files/p10/p10000032/s50414267/02aa804e-bde0afdd-112c0b34-7bc16630-4e384014-mask.jpg'
orig_path = '../physionet.org/files/mimic-cxr-jpg/2.0.0/files/p10/p10000032/s50414267/02aa804e-bde0afdd-112c0b34-7bc16630-4e384014.jpg'


seg = cv2.imread(seg_path, cv2.IMREAD_GRAYSCALE)
seg_mask = cv2.imread(seg_mask_path, cv2.IMREAD_GRAYSCALE)
orig = cv2.imread(orig_path, cv2.IMREAD_GRAYSCALE)
orig = cv2.resize(orig, dsize=(224, 224), interpolation=cv2.INTER_AREA)

seg_mask1 = np.where(seg_mask > 128, 1, 0) # 128 threshold

# lung segmentation
lung_seg = orig*seg_mask1
plt.imshow(lung_seg, cmap='gray')

plt.show()


seg_mask2 = np.where(seg_mask < 128, 1, 0) # 128 threshold

orig_blur = Image.fromarray(orig).convert('L')
orig_blur = orig_blur.filter(ImageFilter.GaussianBlur(1))
orig_blur = np.array(orig_blur)

# 바로 위에 얹을 거라 제외 작업 할 필요 없음
img_rev = orig_blur*seg_mask2 # lung segmentation 제외 비우기
seg_mask3 = np.where(seg_mask > 128, 255, 0).astype(np.uint8) # 타입 CV_8U 오류 방지
# print(seg_mask3.dtype)
res = cv2.copyTo(lung_seg, seg_mask3, img_rev)

plt.figure(figsize=(14, 7))

plt.subplot(1, 4, 1)
plt.axis('off')
plt.imshow(orig, cmap='gray')

plt.subplot(1, 4, 2)
plt.axis('off')
plt.imshow(res, cmap='gray')

plt.subplot(1, 4, 3)
plt.axis('off')
plt.imshow(lung_seg, cmap='gray')

plt.subplot(1, 4, 4)
plt.axis('off')
plt.imshow(seg_mask3, cmap='gray')

plt.show()


# 이건 나중에 추론할 때, 쓸 양식

img = Image.fromarray(img).convert('L')
print(img.size)
orig = Image.fromarray(orig).convert('L')
orig = orig.filter(ImageFilter.GaussianBlur(1))
print(orig.size)
plt.imshow(orig, cmap='gray')
mix = Image.blend(orig, img, 0.2)
plt.imshow(mix, cmap='gray')
plt.show()
