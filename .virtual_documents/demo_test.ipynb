


import torch
from torch import nn
import sys
import os
from torch.utils.data import Dataset
from torch.utils.data import DataLoader
import pandas as pd
import matplotlib.pyplot as plt
from pathlib import Path
from PIL import Image
os.environ['KMP_DUPLICATE_LIB_OK'] = 'True' # dead kernel for matplotlib


# edema severity dataset load
df = pd.read_csv('./pulmonary-edema-severity-grades-based-on-mimic-cxr-1.0.1/pulmonary-edema-severity-grades-based-on-mimic-cxr-1.0.1/regex_report_edema_severity.csv')
df.info()


# Pulmonary Edema Dataset의 반
df_half = df[df['subject_id'] < 16000000]


# Severity 빈도 조사
severity_li = [df_half[df_half['edema_severity'] == i].count()[0] for i in range(0, 4)]
x_li = ['None', 'Vascular Congestion', 'Interstitial Edema', 'Alveolar Edema']

plt.figure(figsize=(10, 5))
plt.bar(x_li, severity_li)
plt.show()





seg_path = 'chest-x-ray-dataset-with-lung-segmentation-1.0.0/chest-x-ray-dataset-with-lung-segmentation-1.0.0/CXLSeg-segmented.csv'
seg_meta_path = 'chest-x-ray-dataset-with-lung-segmentation-1.0.0/chest-x-ray-dataset-with-lung-segmentation-1.0.0/CXLSeg-metadata.csv'

df_seg = pd.read_csv(seg_path)
df_seg_meta = pd.read_csv(seg_meta_path)


df_seg = df_seg[['dicom_id', 'subject_id', 'study_id', 'DicomPath']]
df_seg_half = df_seg[df_seg['subject_id'] < 16000000]
df_seg_half.info()


print(df_half.info())
print(df_seg_half.info())


print(df.info())
print(df_seg.info())


temp = pd.merge(df, df_seg, how='inner', on=['subject_id', 'study_id'])
temp.info()
meta = temp[['subject_id', 'study_id', 'dicom_id', 'DicomPath', 'edema_severity']]
meta.info()


meta.rename(columns={'DicomPath':'DicomPath_seg'}, inplace=True)
meta.info()





# lung segmentation에도 모든 데이터가 있는 것은 아니기 떼문에
# inner를 통해 데이터를 선별한다.
df_seg = pd.merge(df_half, df_seg_half, how='inner', on=['subject_id', 'study_id'])
df_seg.info()


class SegDataset(Dataset):
    def __init__(self, data_dir, base_path):
        self.data_dir = data_dir
        self.base_path = base_path

    def __getitem__(self, key):
        sub_id = self.data_dir['subject_id'][key]
        stu_id = self.data_dir['study_id'][key]
        dicom_id = self.data_dir['dicom_id'][key]
        Y = self.data_dir['edema_severity'][key]
        
        cond = (self.data_dir['subject_id'] == sub_id) & (self.data_dir['study_id'] == stu_id) & (self.data_dir['dicom_id'] == dicom_id)
        
        # idx = self.X_dir.index[cond].item()
        '''
        # 한 명의 환자가 여러 번 촬영을 한 적이 있다.
        # 이를 각 환자 당 study라고 하는데
        # study 내에서도 여러 번 한 적이 있다.
        # study에서는 한 장만 가져오도록 한다.
        # 즉, 한 환자의 여러 이미지를 가지는 것은 허용, 단 하나의 study에서만
        '''
        idx = self.data_dir.index[cond].item()
        
        X_path = self.data_dir.loc[idx]['DicomPath']
        X_path = Path(X_path)
        X_path = Path(self.base_path) / X_path
        # print(X_path)
        
        X = Image.open(X_path)
        return X, Y
        
    def __len__(self):
        return self.data_dir['edema_severity'].count()


base_path = './chest-x-ray-dataset-with-lung-segmentation-1.0.0/chest-x-ray-dataset-with-lung-segmentation-1.0.0'
seg_ds = SegDataset(df_seg, base_path)


df_orig = pd.read_csv('./physionet.org/files/mimic-cxr-jpg/2.0.0/files/mimic-cxr-2.0.0-metadata.csv')

df_orig = df_orig[['dicom_id', 'subject_id', 'study_id', 'ViewPosition']]
df_orig_half = df_orig[df_orig['subject_id'] <= 15000000]

df_orig_half.info()


meta_plus = pd.merge(meta, df_orig, how='inner', on=['dicom_id', 'subject_id', 'study_id'])
meta_plus.info()


def make_path(x):
    subject_id = x['subject_id']
    study_id = x['study_id']
    dicom_id = x['dicom_id']
    
    subject_id = 'p' + str(subject_id)
    study_id = 's' + str(study_id)
    subject_head = subject_id[0:3]
    dicom_jpg = str(dicom_id) + '.jpg'
    ret = Path('files') / Path(subject_head) / Path(subject_id) / Path(study_id) / Path(dicom_jpg)
    return ret


meta_plus['DicomPath_orig'] = 0


meta_plus['DicomPath_orig'] = meta_plus[['subject_id', 'study_id', 'dicom_id']].apply(make_path, axis=1)





print(meta_plus.loc[100, 'DicomPath_seg'])
print(meta_plus.loc[100, 'DicomPath_orig'])


meta_plus[['DicomPath_seg', 'DicomPath_orig']].head()


meta.rename(columns={'DicomPath_seg':'DicomPath'}, inplace=True)
meta.info()


meta.to_csv('./doby_demo_metadata.csv', index=False)


# segmentation은 MIMIC-CXR base라 segmentation에 있는 데이터는
# 모두 CXR-JPG에 존재하기 때문에 이를 활용하자

df_orig = pd.merge(df_seg, df_orig, how='inner', on=['dicom_id', 'subject_id', 'study_id'])
df_orig.info()


def resize_img(img):
    ret = img.resize((224, 224))
    return ret


class OrigDataset(Dataset):
    def __init__(self, data_dir, base_path, transform=None):
        self.data_dir = data_dir
        self.base_path = base_path
        self.transform = transform

    def __getitem__(self, key):
        sub_id = self.data_dir['subject_id'][key]
        stu_id = self.data_dir['study_id'][key]
        dicom_id = self.data_dir['dicom_id'][key]
        Y = self.data_dir['edema_severity'][key]
        
        cond = (self.data_dir['subject_id'] == sub_id) & (self.data_dir['study_id'] == stu_id) & (self.data_dir['dicom_id'] == dicom_id)
        
        # idx = self.X_dir.index[cond].item()
        # 한 명의 환자가 여러 번 촬영을 한 적이 있다. 이에 대해 한 환자 당 하나의 이미지를 다룬다.
        idx = self.data_dir.index[cond].item()
        
        dicom_id = self.data_dir.loc[idx]['dicom_id']
        X_path = self.make_path(sub_id, stu_id, dicom_id)
        X_path = Path(self.base_path) / X_path
        # print(X_path)
        
        X = Image.open(X_path)
        if self.transform:
            X = self.transform(X)
            
        return X, Y
        
    def __len__(self):
        return self.data_dir['edema_severity'].count()

    def make_path(self, subject_id, study_id, dicom_id):
        subject_id = 'p' + str(subject_id)
        study_id = 's' + str(study_id)
        subject_head = subject_id[0:3]
        dicom_jpg = str(dicom_id) + '.jpg'
        ret = Path('files') / Path(subject_head) / Path(subject_id) / Path(study_id) / Path(dicom_jpg)
        return ret


orig_base_path = './physionet.org/files/mimic-cxr-jpg/2.0.0'
orig_ds = OrigDataset(df_orig, orig_base_path, resize_img)


num = 3300

orig_x, orig_y = orig_ds[num]
seg_x, seg_y = seg_ds[num]

   # plt.figure(figsize=(10, 5))

plt.subplot(1, 3, 1)
plt.imshow(orig_x, cmap='gray')
plt.title('All')
plt.axis('off')

plt.subplot(1, 3, 2)
plt.imshow(seg_x, cmap='gray')
plt.title('Segmentation')
plt.axis('off')

plt.subplot(1, 3, 3)
plt.imshow(orig_x, alpha=0.5, cmap='gray')
plt.imshow(seg_x, alpha=0.5, cmap='gray')
plt.title(x_li[seg_y])
plt.axis('off')

plt.show()


from IPython import display
import time

max_num = 675 # max 674 if subject_id under 11000000 

for i in range(0, max_num):
    
    display.display(plt.gcf())
    display.clear_output(wait=True)
    
    orig_x, orig_y = orig_ds[i]
    seg_x, seg_y = seg_ds[i]

    # plt.figure(figsize=(10, 5))

    plt.subplot(1, 3, 1)
    plt.imshow(orig_x, cmap='gray')
    plt.title('All')
    plt.axis('off')

    plt.subplot(1, 3, 2)
    plt.imshow(seg_x, cmap='gray')
    plt.title('Segmentation')
    plt.axis('off')

    plt.subplot(1, 3, 3)
    plt.imshow(orig_x, alpha=0.5, cmap='gray')
    plt.imshow(seg_x, alpha=0.5, cmap='gray')
    plt.title(x_li[seg_y])
    plt.axis('off')

    plt.show()

    time.sleep(1)
