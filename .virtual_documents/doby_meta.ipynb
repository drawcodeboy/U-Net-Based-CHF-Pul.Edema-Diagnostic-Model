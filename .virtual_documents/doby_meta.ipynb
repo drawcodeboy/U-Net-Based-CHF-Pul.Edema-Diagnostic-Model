import pandas as pd
import matplotlib.pyplot as plt
import os
os.environ['KMP_DUPLICATE_LIB_OK'] = 'True'


cxr_meta = pd.read_csv('./physionet.org/files/mimic-cxr-jpg/2.0.0/files/mimic-cxr-2.0.0-metadata.csv')


cxr_meta.info()


g1 = cxr_meta.groupby('subject_id')
g1.size()


cxr_meta = cxr_meta[cxr_meta['subject_id'] < 16000000]
cxr_meta.info()


g2 = cxr_meta.groupby('subject_id')
g2.size()


chf_meta = pd.read_csv('./pulmonary-edema-severity-grades-based-on-mimic-cxr-1.0.1/pulmonary-edema-severity-grades-based-on-mimic-cxr-1.0.1/auxiliary_metadata/mimic_cxr_metadata_available_CHF_view.csv')
chf_meta.info()


cxr_meta = pd.merge(cxr_meta, chf_meta, on=['dicom_id', 'study_id', 'subject_id'], how='inner')
cxr_meta.info()


cxr_meta = cxr_meta[(cxr_meta['report_available'] == True) & (cxr_meta['dicom_available'] == True) & (cxr_meta['view'] == 'frontal')]
cxr_meta.info()


cxr_meta = cxr_meta[['dicom_id', 'subject_id', 'study_id', 'CHF_X']]
cxr_meta.info()


doby_meta = pd.read_csv('./doby_demo_metadata.csv')
doby_meta.info()


doby_meta = pd.merge(doby_meta, cxr_meta, on=['subject_id', 'study_id', 'dicom_id'], how='inner')
doby_meta.info()


(doby_meta['CHF'] == False).sum()


doby_meta.to_csv('./doby_meta.csv', index=False)


meta = pd.read_csv('./doby_meta.csv')
meta.info()


plt.hist(meta['normal'])
plt.show()


print(((meta['normal'] == 1).sum() / (meta['normal'] == 0).sum()))
