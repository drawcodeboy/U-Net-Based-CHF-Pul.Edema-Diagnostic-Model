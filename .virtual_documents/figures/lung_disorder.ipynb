import cv2
import pandas as pd
import numpy as np
import random
from pathlib import Path
import matplotlib.pyplot as plt
from PIL import Image
from PIL import ImageFilter
from PIL import ImageOps
from torchvision.transforms.functional import to_pil_image
from pathlib import Path
import os

os.environ['KMP_DUPLICATE_LIB_OK'] = 'True' # dead kernel for matplotlib


disorder_meta_path = '../physionet.org/files/mimic-cxr-jpg/2.0.0/files/mimic-cxr-2.0.0-chexpert.csv'
disorder_meta = pd.read_csv(disorder_meta_path)


disorder_meta.head(5)


penumonia_data = disorder_meta[disorder_meta['Pneumonia'] == 1.0]


penumonia_data


# 'D:/Doby/OMS/physionet.org/files/mimic-cxr-jpg/2.0.0/files/p12/p12001854/s52513801/de99ab7b-14208cb1-78f4f471-ecfc501e-bd213bee.jpg'
base_path = 'F:/Doby/OMS/physionet.org/files/mimic-cxr-jpg/2.0.0/files'
num = 104

one = str(penumonia_data.at[penumonia_data.index[num], 'subject_id'])[:2]
two = str(penumonia_data.at[penumonia_data.index[num], 'subject_id'])
three = str(penumonia_data.at[penumonia_data.index[num], 'study_id'])
temp_path = f'{base_path}/p{one}/p{two}/s{three}'
print(temp_path)


sample_path = os.path.join(temp_path, os.listdir(temp_path)[0])
sample_path


pleural_effusion_data = disorder_meta[disorder_meta['Pleural Effusion'] == 1.0]
pleural_effusion_data


num_ = 111

one = str(pleural_effusion_data.at[pleural_effusion_data.index[num_], 'subject_id'])[:2]
two = str(pleural_effusion_data.at[pleural_effusion_data.index[num_], 'subject_id'])
three = str(pleural_effusion_data.at[pleural_effusion_data.index[num_], 'study_id'])
temp_path2 = f'{base_path}/p{one}/p{two}/s{three}'
print(temp_path2)


sample_path2 = os.path.join(temp_path2, os.listdir(temp_path2)[0])
sample_path2


edema = disorder_meta[disorder_meta['Edema'] == 1.0]

num__ = 39

one = str(edema.at[edema.index[num__], 'subject_id'])[:2]
two = str(edema.at[edema.index[num__], 'subject_id'])
three = str(edema.at[edema.index[num__], 'study_id'])
temp_path3 = f'{base_path}/p{one}/p{two}/s{three}'

sample_path3 = os.path.join(temp_path3, os.listdir(temp_path3)[0])
sample_path3


normal = disorder_meta[disorder_meta['No Finding'] == 1.0]

num___ = 20

one = str(normal.at[normal.index[num___], 'subject_id'])[:2]
two = str(normal.at[normal.index[num___], 'subject_id'])
three = str(normal.at[normal.index[num___], 'study_id'])
temp_path4 = f'{base_path}/p{one}/p{two}/s{three}'

sample_path4 = os.path.join(temp_path4, os.listdir(temp_path4)[0])
sample_path4


fsize = 20
figsize = (500, 500)
plt.figure(figsize=(12, 12))

x1 = Image.open(sample_path4)
plt.subplot(2, 2, 1)
plt.imshow(x1.resize(figsize), cmap='gray')
plt.xticks([])
plt.yticks([])
plt.gca().spines['bottom'].set_visible(False)
plt.gca().spines['top'].set_visible(False)
plt.gca().spines['left'].set_visible(False)
plt.gca().spines['right'].set_visible(False)
plt.xlabel('Normal (a)', fontsize=fsize)

x2 = Image.open(sample_path3)
plt.subplot(2, 2, 2)
plt.imshow(x2.resize(figsize), cmap='gray')
plt.xticks([])
plt.yticks([])
plt.gca().spines['bottom'].set_visible(False)
plt.gca().spines['top'].set_visible(False)
plt.gca().spines['left'].set_visible(False)
plt.gca().spines['right'].set_visible(False)
plt.xlabel('Pulmonary Edema (b)', fontsize=fsize)

x3 = Image.open(sample_path)
plt.subplot(2, 2, 3)
plt.imshow(x3.resize(figsize), cmap='gray')
plt.xticks([])
plt.yticks([])
plt.gca().spines['bottom'].set_visible(False)
plt.gca().spines['top'].set_visible(False)
plt.gca().spines['left'].set_visible(False)
plt.gca().spines['right'].set_visible(False)
plt.xlabel('Pneumonia (c)', fontsize=fsize)

x4 = Image.open(sample_path2)
plt.subplot(2, 2, 4)
plt.imshow(x4.resize(figsize), cmap='gray')
plt.xticks([])
plt.yticks([])
plt.gca().spines['bottom'].set_visible(False)
plt.gca().spines['top'].set_visible(False)
plt.gca().spines['left'].set_visible(False)
plt.gca().spines['right'].set_visible(False)
plt.xlabel('Pleural Effusion (d)', fontsize=fsize)

plt.savefig('./revision_figure1.jpg', dpi=500)
plt.show()


meta_path = '../physionet.org/files/mimic-cxr-jpg/2.0.0/files/mimic-cxr-2.0.0-metadata.csv'
meta = pd.read_csv(meta_path)


meta['Size'] = meta.apply(lambda x: str(x['Rows']) + 'X' + str(x['Columns']), axis=1)


meta['Size']


pixel_size = list(meta['Size'].unique())
print(len(pixel_size))


meta['Size'].value_counts()


meta['Pixels'] = meta.apply(lambda x: x['Rows'] * x['Columns'], axis=1)


meta['Pixels'].min()


meta[meta['Pixels'] == 1587681]['Size']
