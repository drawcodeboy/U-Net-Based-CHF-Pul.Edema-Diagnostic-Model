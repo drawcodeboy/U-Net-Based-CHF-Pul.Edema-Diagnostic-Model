import pandas as pd
import numpy as np
from PIL import Image
from PIL import ImageFilter
from PIL import ImageOps
import matplotlib.pyplot as plt
import os
import cv2

os.environ['KMP_DUPLICATE_LIB_OK'] = 'True'


seg = Image.open('./chest-x-ray-dataset-with-lung-segmentation-1.0.0/chest-x-ray-dataset-with-lung-segmentation-1.0.0/files/p10/p10000032/s53189527/2a2277a9-b0ded155-c0de8eb9-c124d10e-82c5caab.jpg')
seg_mask = Image.open('./chest-x-ray-dataset-with-lung-segmentation-1.0.0/chest-x-ray-dataset-with-lung-segmentation-1.0.0/files/p10/p10000032/s53189527/2a2277a9-b0ded155-c0de8eb9-c124d10e-82c5caab-mask.jpg')
orig = Image.open('physionet.org/files/mimic-cxr-jpg/2.0.0/files/p10/p10000032/s53189527/2a2277a9-b0ded155-c0de8eb9-c124d10e-82c5caab.jpg')
orig = orig.resize(seg.size)


img_li = [orig, seg, seg_mask]
plt.figure(figsize=(10, 5))
for i in range(1, 4):
    plt.subplot(1, 3, i)
    plt.imshow(img_li[i-1], cmap='gray')
    plt.axis('off')
plt.show()


orig_ = orig.filter(ImageFilter.GaussianBlur(1))
mix = Image.blend(orig_.convert('L'), seg.convert('L'), 0.45)


plt.imshow(mix, cmap='gray')
plt.axis('off')
plt.show()


# Hisogram Equalization

mix_ = ImageOps.equalize(mix)
plt.imshow(mix_, cmap='gray')
