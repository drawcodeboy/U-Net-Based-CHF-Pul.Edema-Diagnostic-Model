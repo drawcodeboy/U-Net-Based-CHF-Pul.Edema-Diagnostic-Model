{
 "cells": [
  {
   "cell_type": "code",
   "execution_count": 6,
   "id": "58f68910-5b9b-4916-bea6-65697d5f26b9",
   "metadata": {
    "execution": {
     "iopub.execute_input": "2024-03-01T10:04:23.308533Z",
     "iopub.status.busy": "2024-03-01T10:04:23.307535Z",
     "iopub.status.idle": "2024-03-01T10:04:29.513922Z",
     "shell.execute_reply": "2024-03-01T10:04:29.511933Z",
     "shell.execute_reply.started": "2024-03-01T10:04:23.308533Z"
    }
   },
   "outputs": [],
   "source": [
    "import torch\n",
    "from torch import nn\n",
    "from torchvision import transforms\n",
    "from torchvision import models\n",
    "from torchvision.transforms.functional import to_pil_image\n",
    "from torchvision.transforms.functional import pil_to_tensor\n",
    "import matplotlib.pyplot as plt\n",
    "from PIL import Image\n",
    "from PIL import ImageFilter\n",
    "from PIL import ImageOps\n",
    "from torch.utils.data import Dataset\n",
    "from torch.utils.data import DataLoader\n",
    "from torch.utils.data import random_split\n",
    "from torch.optim.lr_scheduler import ReduceLROnPlateau\n",
    "from copy import copy\n",
    "from copy import deepcopy\n",
    "import sys\n",
    "import os\n",
    "import pandas as pd\n",
    "import numpy as np\n",
    "import random\n",
    "from pathlib import Path\n",
    "\n",
    "os.environ['KMP_DUPLICATE_LIB_OK'] = 'True' # dead kernel for matplotlib"
   ]
  },
  {
   "cell_type": "code",
   "execution_count": 7,
   "id": "4243c162-0efd-4c7a-9726-eb1915f56fcb",
   "metadata": {
    "execution": {
     "iopub.execute_input": "2024-03-01T10:04:29.517912Z",
     "iopub.status.busy": "2024-03-01T10:04:29.515918Z",
     "iopub.status.idle": "2024-03-01T10:04:29.528883Z",
     "shell.execute_reply": "2024-03-01T10:04:29.526889Z",
     "shell.execute_reply.started": "2024-03-01T10:04:29.517912Z"
    }
   },
   "outputs": [],
   "source": [
    "sys.path.append('../segmentation')"
   ]
  },
  {
   "cell_type": "code",
   "execution_count": 8,
   "id": "242f0f44-5709-4d2c-9e24-748c195c3646",
   "metadata": {
    "execution": {
     "iopub.execute_input": "2024-03-01T10:04:29.531875Z",
     "iopub.status.busy": "2024-03-01T10:04:29.529880Z",
     "iopub.status.idle": "2024-03-01T10:04:29.549827Z",
     "shell.execute_reply": "2024-03-01T10:04:29.546835Z",
     "shell.execute_reply.started": "2024-03-01T10:04:29.531875Z"
    }
   },
   "outputs": [],
   "source": [
    "from UNet import UNet"
   ]
  },
  {
   "cell_type": "code",
   "execution_count": 9,
   "id": "8de15db7-e61b-42ca-b786-a6ba309f6ffb",
   "metadata": {
    "execution": {
     "iopub.execute_input": "2024-03-01T10:04:29.554813Z",
     "iopub.status.busy": "2024-03-01T10:04:29.553816Z",
     "iopub.status.idle": "2024-03-01T10:04:29.568786Z",
     "shell.execute_reply": "2024-03-01T10:04:29.566789Z",
     "shell.execute_reply.started": "2024-03-01T10:04:29.554813Z"
    }
   },
   "outputs": [
    {
     "name": "stdout",
     "output_type": "stream",
     "text": [
      "cpu\n"
     ]
    }
   ],
   "source": [
    "device = 'cuda' if torch.cuda.is_available() else 'cpu'\n",
    "print(device)"
   ]
  },
  {
   "cell_type": "code",
   "execution_count": 10,
   "id": "bb7c3aa6-0c18-42d0-8ec4-6ba1a539adba",
   "metadata": {
    "execution": {
     "iopub.execute_input": "2024-03-01T10:04:29.573762Z",
     "iopub.status.busy": "2024-03-01T10:04:29.571768Z",
     "iopub.status.idle": "2024-03-01T10:04:29.652559Z",
     "shell.execute_reply": "2024-03-01T10:04:29.651563Z",
     "shell.execute_reply.started": "2024-03-01T10:04:29.572765Z"
    }
   },
   "outputs": [
    {
     "name": "stdout",
     "output_type": "stream",
     "text": [
      "<class 'pandas.core.frame.DataFrame'>\n",
      "Int64Index: 4198 entries, 0 to 4197\n",
      "Data columns (total 7 columns):\n",
      " #   Column          Non-Null Count  Dtype \n",
      "---  ------          --------------  ----- \n",
      " 0   subject_id      4198 non-null   int64 \n",
      " 1   study_id        4198 non-null   int64 \n",
      " 2   dicom_id        4198 non-null   object\n",
      " 3   DicomPath       4198 non-null   object\n",
      " 4   edema_severity  4198 non-null   int64 \n",
      " 5   normal          4198 non-null   int64 \n",
      " 6   CHF             4198 non-null   bool  \n",
      "dtypes: bool(1), int64(4), object(2)\n",
      "memory usage: 233.7+ KB\n"
     ]
    }
   ],
   "source": [
    "metadata = pd.read_csv('../doby_meta.csv')\n",
    "metadata = metadata[metadata['subject_id'] < 16000000]\n",
    "metadata.info()"
   ]
  },
  {
   "cell_type": "code",
   "execution_count": 11,
   "id": "23837434-21c4-40be-a859-f7939570e159",
   "metadata": {
    "execution": {
     "iopub.execute_input": "2024-03-01T10:04:29.655554Z",
     "iopub.status.busy": "2024-03-01T10:04:29.654556Z",
     "iopub.status.idle": "2024-03-01T10:04:29.664528Z",
     "shell.execute_reply": "2024-03-01T10:04:29.662526Z",
     "shell.execute_reply.started": "2024-03-01T10:04:29.655554Z"
    }
   },
   "outputs": [],
   "source": [
    "ORIG_BASE_PATH = '../physionet.org/files/mimic-cxr-jpg/2.0.0'"
   ]
  },
  {
   "cell_type": "code",
   "execution_count": 12,
   "id": "4e96f380-0da8-485f-b5cd-6207dff1462a",
   "metadata": {
    "execution": {
     "iopub.execute_input": "2024-03-01T10:04:29.667513Z",
     "iopub.status.busy": "2024-03-01T10:04:29.666517Z",
     "iopub.status.idle": "2024-03-01T10:04:29.684467Z",
     "shell.execute_reply": "2024-03-01T10:04:29.681475Z",
     "shell.execute_reply.started": "2024-03-01T10:04:29.667513Z"
    }
   },
   "outputs": [],
   "source": [
    "TRANSFORMS = transforms.Compose([\n",
    "    transforms.ToTensor()\n",
    "])"
   ]
  },
  {
   "cell_type": "code",
   "execution_count": 13,
   "id": "720fcd3f-ceb4-4c1f-aa78-e8265c4c217b",
   "metadata": {
    "execution": {
     "iopub.execute_input": "2024-03-01T10:04:29.687458Z",
     "iopub.status.busy": "2024-03-01T10:04:29.686461Z",
     "iopub.status.idle": "2024-03-01T10:04:29.703416Z",
     "shell.execute_reply": "2024-03-01T10:04:29.701420Z",
     "shell.execute_reply.started": "2024-03-01T10:04:29.687458Z"
    }
   },
   "outputs": [],
   "source": [
    "class Dataset(Dataset):\n",
    "    def __init__(self, metadata, orig_base_path, transform=None):\n",
    "        self.metadata = metadata\n",
    "        self.orig_base_path = Path(orig_base_path)\n",
    "        self.transform = transform\n",
    "\n",
    "    def __getitem__(self, idx):\n",
    "        x_path = self.metadata.loc[idx, 'DicomPath']\n",
    "        x_orig_path = self.orig_base_path / Path(x_path)\n",
    "        \n",
    "        x_orig = Image.open(x_orig_path).convert('L').resize((224, 224))\n",
    "\n",
    "        y = self.metadata.loc[idx, 'normal']\n",
    "\n",
    "        if self.transform:\n",
    "            x = self.transform(x_orig)\n",
    "\n",
    "        return x, y\n",
    "\n",
    "    def __len__(self):\n",
    "        return self.metadata['normal'].count()"
   ]
  },
  {
   "cell_type": "code",
   "execution_count": 14,
   "id": "d5fd6461-cb4b-48e1-9c2e-300b6c768d2b",
   "metadata": {
    "execution": {
     "iopub.execute_input": "2024-03-01T10:04:29.707405Z",
     "iopub.status.busy": "2024-03-01T10:04:29.706408Z",
     "iopub.status.idle": "2024-03-01T10:04:29.718377Z",
     "shell.execute_reply": "2024-03-01T10:04:29.716381Z",
     "shell.execute_reply.started": "2024-03-01T10:04:29.707405Z"
    }
   },
   "outputs": [],
   "source": [
    "ds = Dataset(metadata, ORIG_BASE_PATH, TRANSFORMS)"
   ]
  },
  {
   "cell_type": "code",
   "execution_count": 15,
   "id": "a7d8c2a4-c532-477e-9e87-05db4b24c159",
   "metadata": {
    "execution": {
     "iopub.execute_input": "2024-03-01T10:04:29.726355Z",
     "iopub.status.busy": "2024-03-01T10:04:29.725366Z",
     "iopub.status.idle": "2024-03-01T10:04:29.743309Z",
     "shell.execute_reply": "2024-03-01T10:04:29.741314Z",
     "shell.execute_reply.started": "2024-03-01T10:04:29.726355Z"
    }
   },
   "outputs": [],
   "source": [
    "ds_size = len(ds)\n",
    "train_size = int(ds_size * 0.8)\n",
    "test_size = ds_size - train_size\n",
    "train_ds, test_ds = random_split(ds, [train_size, test_size], generator=torch.manual_seed(42))"
   ]
  },
  {
   "cell_type": "code",
   "execution_count": 16,
   "id": "bab6066f-82a7-4857-9880-cbf66e444359",
   "metadata": {
    "execution": {
     "iopub.execute_input": "2024-03-01T10:04:29.747299Z",
     "iopub.status.busy": "2024-03-01T10:04:29.746301Z",
     "iopub.status.idle": "2024-03-01T10:04:29.762260Z",
     "shell.execute_reply": "2024-03-01T10:04:29.759272Z",
     "shell.execute_reply.started": "2024-03-01T10:04:29.747299Z"
    }
   },
   "outputs": [],
   "source": [
    "class customDenseNet(nn.Module):\n",
    "    def __init__(self):\n",
    "        super(customDenseNet, self).__init__()\n",
    "        self.model = models.densenet121()\n",
    "        self.model.features.conv0 = nn.Conv2d(1, 64, kernel_size=7, stride=2, padding=3, bias=False)\n",
    "        self.linear = nn.Linear(1000, 1)\n",
    "        self.sigmoid = nn.Sigmoid()\n",
    "\n",
    "    def forward(self, x):\n",
    "        x = self.model(x)\n",
    "        x = self.linear(x)\n",
    "        x = self.sigmoid(x)\n",
    "\n",
    "        return x"
   ]
  },
  {
   "cell_type": "code",
   "execution_count": 17,
   "id": "32191413-a7e7-4680-b20e-c4ff9eced00f",
   "metadata": {
    "execution": {
     "iopub.execute_input": "2024-03-01T10:04:29.765261Z",
     "iopub.status.busy": "2024-03-01T10:04:29.764261Z",
     "iopub.status.idle": "2024-03-01T10:04:30.702259Z",
     "shell.execute_reply": "2024-03-01T10:04:30.701261Z",
     "shell.execute_reply.started": "2024-03-01T10:04:29.765261Z"
    }
   },
   "outputs": [
    {
     "data": {
      "text/plain": [
       "<All keys matched successfully>"
      ]
     },
     "execution_count": 17,
     "metadata": {},
     "output_type": "execute_result"
    }
   ],
   "source": [
    "segmentation_model = UNet(channel=1)\n",
    "segmentation_model.load_state_dict(torch.load('../segmentation/parameters/unet_best_f1_model_state.pt', map_location=device))\n",
    "\n",
    "classification_model = customDenseNet()\n",
    "classification_model.load_state_dict(torch.load('../classification/densenet_parameters/tune_best_f1_model_state.pt', map_location=device))"
   ]
  },
  {
   "cell_type": "code",
   "execution_count": 18,
   "id": "49c8b1e5-79c4-4201-a686-698f2d803760",
   "metadata": {
    "execution": {
     "iopub.execute_input": "2024-03-01T10:04:30.705251Z",
     "iopub.status.busy": "2024-03-01T10:04:30.704253Z",
     "iopub.status.idle": "2024-03-01T10:04:30.713229Z",
     "shell.execute_reply": "2024-03-01T10:04:30.712232Z",
     "shell.execute_reply.started": "2024-03-01T10:04:30.705251Z"
    }
   },
   "outputs": [],
   "source": [
    "transform = transforms.ToTensor()"
   ]
  },
  {
   "cell_type": "code",
   "execution_count": 32,
   "id": "3163a6ae-967a-4de8-ba42-6ed6134ec20d",
   "metadata": {
    "execution": {
     "iopub.execute_input": "2024-03-01T10:09:02.908565Z",
     "iopub.status.busy": "2024-03-01T10:09:02.907567Z",
     "iopub.status.idle": "2024-03-01T10:09:02.919543Z",
     "shell.execute_reply": "2024-03-01T10:09:02.918545Z",
     "shell.execute_reply.started": "2024-03-01T10:09:02.908565Z"
    }
   },
   "outputs": [],
   "source": [
    "def inference(X, model1, model2, toTensor):\n",
    "    with torch.no_grad():\n",
    "        input = X.unsqueeze(dim=0)\n",
    "        segmentation_tensor = model1(input)\n",
    "        segmentation_tensor = segmentation_tensor.squeeze()\n",
    "        segmentation_img = to_pil_image(segmentation_tensor)\n",
    "        original_img = to_pil_image(X)\n",
    "\n",
    "        seg_mask = np.array(segmentation_img)\n",
    "        seg_mask = np.where(seg_mask > 128, 1, 0)\n",
    "        lung_part_img = np.array(original_img) * seg_mask\n",
    "        lung_part_img = np.array(lung_part_img)\n",
    "        original_img = original_img.filter(ImageFilter.GaussianBlur(1))\n",
    "\n",
    "        blending_img = Image.blend(original_img, segmentation_img, 0.2)\n",
    "        blending_img = ImageOps.equalize(blending_img)\n",
    "        blending_tensor = toTensor(blending_img).unsqueeze(dim=0)\n",
    "\n",
    "        predicted = model2(blending_tensor)\n",
    "        return segmentation_img, lung_part_img, original_img, blending_img, predicted.item()"
   ]
  },
  {
   "cell_type": "code",
   "execution_count": 34,
   "id": "6594edb3-707c-4720-8fba-3e6843aae441",
   "metadata": {
    "execution": {
     "iopub.execute_input": "2024-03-01T10:09:03.872993Z",
     "iopub.status.busy": "2024-03-01T10:09:03.872993Z",
     "iopub.status.idle": "2024-03-01T10:09:03.880962Z",
     "shell.execute_reply": "2024-03-01T10:09:03.878970Z",
     "shell.execute_reply.started": "2024-03-01T10:09:03.872993Z"
    }
   },
   "outputs": [],
   "source": [
    "import time\n",
    "from IPython.display import clear_output"
   ]
  },
  {
   "cell_type": "code",
   "execution_count": 35,
   "id": "d3195080-e4d1-4d69-b746-57a4189407cb",
   "metadata": {
    "execution": {
     "iopub.execute_input": "2024-03-01T10:09:04.147256Z",
     "iopub.status.busy": "2024-03-01T10:09:04.146270Z",
     "iopub.status.idle": "2024-03-01T10:09:05.989329Z",
     "shell.execute_reply": "2024-03-01T10:09:05.988331Z",
     "shell.execute_reply.started": "2024-03-01T10:09:04.147256Z"
    }
   },
   "outputs": [
    {
     "data": {
      "image/png": "[encoded data removed]",
      "text/plain": [
       "<Figure size 640x480 with 4 Axes>"
      ]
     },
     "metadata": {},
     "output_type": "display_data"
    }
   ],
   "source": [
    "classification_model.eval()\n",
    "segmentation_model.eval()\n",
    "\n",
    "x, y = test_ds[0]\n",
    "seg_img, lung_part_img, orig_img, blend_img, pred = inference(x, segmentation_model, classification_model, transform)\n",
    "\n",
    "plt.subplot(1, 4, 1)\n",
    "plt.title('Abnormal' if y >= 0.5 else 'Normal')\n",
    "plt.imshow(to_pil_image(x), cmap='gray')\n",
    "plt.axis('off')\n",
    "\n",
    "plt.subplot(1, 4, 2)\n",
    "plt.title('Target  |  Predict')\n",
    "plt.imshow(seg_img, cmap='gray')\n",
    "plt.axis('off')\n",
    "\n",
    "plt.subplot(1, 4, 3)\n",
    "plt.title(f'Abnormal {pred:.2f}' if pred >= 0.5 else f'Normal {pred:.2f}')\n",
    "plt.imshow(blend_img, cmap='gray')\n",
    "plt.axis('off')\n",
    "\n",
    "plt.subplot(1, 4, 4)\n",
    "plt.title('Lung Part')\n",
    "plt.imshow(lung_part_img, cmap='gray')\n",
    "plt.axis('off')\n",
    "\n",
    "plt.show()"
   ]
  },
  {
   "cell_type": "code",
   "execution_count": 5,
   "id": "3dae7d1f-f3e6-4adb-a609-175c5483b90f",
   "metadata": {
    "execution": {
     "iopub.execute_input": "2024-03-01T10:04:16.023017Z",
     "iopub.status.busy": "2024-03-01T10:04:16.023017Z",
     "iopub.status.idle": "2024-03-01T10:04:16.070888Z",
     "shell.execute_reply": "2024-03-01T10:04:16.069899Z",
     "shell.execute_reply.started": "2024-03-01T10:04:16.023017Z"
    }
   },
   "outputs": [
    {
     "ename": "NameError",
     "evalue": "name 'classification_model' is not defined",
     "output_type": "error",
     "traceback": [
      "\u001b[1;31m---------------------------------------------------------------------------\u001b[0m",
      "\u001b[1;31mNameError\u001b[0m                                 Traceback (most recent call last)",
      "Cell \u001b[1;32mIn[5], line 1\u001b[0m\n\u001b[1;32m----> 1\u001b[0m \u001b[43mclassification_model\u001b[49m\u001b[38;5;241m.\u001b[39meval()\n\u001b[0;32m      2\u001b[0m segmentation_model\u001b[38;5;241m.\u001b[39meval()\n\u001b[0;32m      4\u001b[0m x, y \u001b[38;5;241m=\u001b[39m test_ds[\u001b[38;5;241m3\u001b[39m]\n",
      "\u001b[1;31mNameError\u001b[0m: name 'classification_model' is not defined"
     ]
    }
   ],
   "source": [
    "classification_model.eval()\n",
    "segmentation_model.eval()\n",
    "\n",
    "x, y = test_ds[3]\n",
    "seg_img, blend_img, pred = inference(x, segmentation_model, classification_model, transform)\n",
    "\n",
    "plt.subplot(1, 3, 1)\n",
    "plt.title('Abnormal' if y >= 0.5 else 'Normal')\n",
    "plt.imshow(to_pil_image(x), cmap='gray')\n",
    "plt.axis('off')\n",
    "\n",
    "plt.subplot(1, 3, 2)\n",
    "plt.title('Target  |  Predict')\n",
    "plt.imshow(seg_img, cmap='gray')\n",
    "plt.axis('off')\n",
    "\n",
    "plt.subplot(1, 3, 3)\n",
    "plt.title(f'Abnormal {pred:.2f}' if pred >= 0.5 else f'Normal {pred:.2f}')\n",
    "plt.imshow(blend_img, cmap='gray')\n",
    "plt.axis('off')\n",
    "\n",
    "plt.show()"
   ]
  }
 ],
 "metadata": {
  "kernelspec": {
   "display_name": "Python 3 (ipykernel)",
   "language": "python",
   "name": "python3"
  },
  "language_info": {
   "codemirror_mode": {
    "name": "ipython",
    "version": 3
   },
   "file_extension": ".py",
   "mimetype": "text/x-python",
   "name": "python",
   "nbconvert_exporter": "python",
   "pygments_lexer": "ipython3",
   "version": "3.10.9"
  }
 },
 "nbformat": 4,
 "nbformat_minor": 5
}
