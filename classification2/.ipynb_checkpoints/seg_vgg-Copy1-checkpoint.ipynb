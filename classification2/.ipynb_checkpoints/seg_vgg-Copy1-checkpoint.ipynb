{
 "cells": [
  {
   "cell_type": "code",
   "execution_count": 1,
   "id": "ae863a34-6643-44fa-bc3a-bdb4860cd5f3",
   "metadata": {},
   "outputs": [],
   "source": [
    "import torch\n",
    "from torch import nn\n",
    "from torchvision import transforms\n",
    "from torchvision import models\n",
    "from torchsummary import summary\n",
    "import matplotlib.pyplot as plt\n",
    "from PIL import Image\n",
    "from PIL import ImageFilter\n",
    "from PIL import ImageOps\n",
    "from torch.utils.data import Dataset\n",
    "from torch.utils.data import DataLoader\n",
    "from torch.utils.data import random_split\n",
    "from torch.optim.lr_scheduler import ReduceLROnPlateau\n",
    "from copy import copy\n",
    "from copy import deepcopy\n",
    "import sys\n",
    "import os\n",
    "import pandas as pd\n",
    "import numpy as np\n",
    "import random\n",
    "from pathlib import Path\n",
    "\n",
    "os.environ['KMP_DUPLICATE_LIB_OK'] = 'True' # dead kernel for matplotlib"
   ]
  },
  {
   "cell_type": "code",
   "execution_count": 2,
   "id": "2b92c0ef-8d09-4b32-b143-5ce85b4f22c3",
   "metadata": {},
   "outputs": [
    {
     "name": "stdout",
     "output_type": "stream",
     "text": [
      "<class 'pandas.core.frame.DataFrame'>\n",
      "Index: 4198 entries, 0 to 4197\n",
      "Data columns (total 7 columns):\n",
      " #   Column          Non-Null Count  Dtype \n",
      "---  ------          --------------  ----- \n",
      " 0   subject_id      4198 non-null   int64 \n",
      " 1   study_id        4198 non-null   int64 \n",
      " 2   dicom_id        4198 non-null   object\n",
      " 3   DicomPath       4198 non-null   object\n",
      " 4   edema_severity  4198 non-null   int64 \n",
      " 5   normal          4198 non-null   int64 \n",
      " 6   CHF             4198 non-null   bool  \n",
      "dtypes: bool(1), int64(4), object(2)\n",
      "memory usage: 233.7+ KB\n"
     ]
    }
   ],
   "source": [
    "metadata = pd.read_csv('../doby_meta.csv')\n",
    "metadata = metadata[metadata['subject_id'] < 16000000]\n",
    "metadata.info()"
   ]
  },
  {
   "cell_type": "code",
   "execution_count": 3,
   "id": "31517bce-30b5-4ee2-8a21-59ea06406329",
   "metadata": {},
   "outputs": [],
   "source": [
    "SEG_BASE_PATH = '../chest-x-ray-dataset-with-lung-segmentation-1.0.0/chest-x-ray-dataset-with-lung-segmentation-1.0.0'\n",
    "ORIG_BASE_PATH = '../physionet.org/files/mimic-cxr-jpg/2.0.0'"
   ]
  },
  {
   "cell_type": "code",
   "execution_count": 4,
   "id": "90ba4915-2eb3-442f-b501-49d8a99c7a65",
   "metadata": {},
   "outputs": [],
   "source": [
    "class Resize(object):\n",
    "    def __init__(self, size):\n",
    "        self.size = size\n",
    "\n",
    "    def __call__(self, x_seg, x_orig):\n",
    "        return x_seg, x_orig.resize((self.size, self.size))\n",
    "\n",
    "class MixImage(object):\n",
    "    def __call__(self, fore, back):\n",
    "        back.paste(fore, (0, 0), fore)\n",
    "        return back\n",
    "\n",
    "TRANSFORMS = transforms.Compose([\n",
    "    transforms.ToTensor()\n",
    "])"
   ]
  },
  {
   "cell_type": "code",
   "execution_count": 5,
   "id": "4702f83e-d0bc-40a2-b250-9fe04e6df31f",
   "metadata": {},
   "outputs": [],
   "source": [
    "class Dataset(Dataset):\n",
    "    def __init__(self, metadata, seg_base_path, transform=None):\n",
    "        self.metadata = metadata\n",
    "        self.seg_base_path = Path(seg_base_path)\n",
    "        self.transform = transform\n",
    "\n",
    "    def __getitem__(self, idx):\n",
    "        x_path = self.metadata.loc[idx, 'DicomPath']\n",
    "        x_seg_path = self.seg_base_path / Path(x_path)\n",
    "        \n",
    "        x_seg = Image.open(x_seg_path).convert('L').resize((64, 64))\n",
    "\n",
    "        # 검은색 pixel이 많기 때문에 Histogram Equalization X\n",
    "        \n",
    "        y = self.metadata.loc[idx, 'normal']\n",
    "\n",
    "        if self.transform:\n",
    "            x = self.transform(x_seg)\n",
    "\n",
    "        return x, y\n",
    "\n",
    "    def __len__(self):\n",
    "        return self.metadata['normal'].count()"
   ]
  },
  {
   "cell_type": "code",
   "execution_count": 6,
   "id": "1c523295-c469-4d6e-85ae-9c36d8597333",
   "metadata": {},
   "outputs": [],
   "source": [
    "ds = Dataset(metadata, SEG_BASE_PATH, transform=TRANSFORMS)"
   ]
  },
  {
   "cell_type": "code",
   "execution_count": 7,
   "id": "d0b89ffb-7f2c-4dca-9301-46c3f1a3157c",
   "metadata": {},
   "outputs": [
    {
     "data": {
      "image/png": "[encoded data removed]",
      "text/plain": [
       "<Figure size 640x480 with 1 Axes>"
      ]
     },
     "metadata": {},
     "output_type": "display_data"
    }
   ],
   "source": [
    "from torchvision.transforms.functional import to_pil_image\n",
    "\n",
    "x, y = ds[201]\n",
    "plt.title(y)\n",
    "plt.imshow(to_pil_image(x), cmap='gray')\n",
    "plt.axis('off')\n",
    "plt.show()"
   ]
  },
  {
   "cell_type": "code",
   "execution_count": 8,
   "id": "718f7151-5393-4321-ba8e-ff36f946bf43",
   "metadata": {},
   "outputs": [],
   "source": [
    "ds_size = len(ds)\n",
    "train_size = int(ds_size * 0.8)\n",
    "test_size = ds_size - train_size\n",
    "train_ds, test_ds = random_split(ds, [train_size, test_size], generator=torch.manual_seed(42))"
   ]
  },
  {
   "cell_type": "code",
   "execution_count": 9,
   "id": "5f5c1a73-e48a-43cd-a84a-c76c9aeffb8a",
   "metadata": {},
   "outputs": [
    {
     "name": "stdout",
     "output_type": "stream",
     "text": [
      "3358 840\n"
     ]
    }
   ],
   "source": [
    "print(len(train_ds), len(test_ds))"
   ]
  },
  {
   "cell_type": "code",
   "execution_count": 10,
   "id": "c0c93c66-b81e-43e0-bdaa-185366f7604c",
   "metadata": {},
   "outputs": [],
   "source": [
    "train_ds = copy(train_ds)\n",
    "\n",
    "TRAIN_TRANSFORM = transforms.Compose([\n",
    "    transforms.ToTensor(),\n",
    "    # rotation degree = -10, 10\n",
    "    # translate -img_width * a < dx < img_width * a\n",
    "        # -11.2 < dx < 11.2, y도 b로 마찬가지, tuple 형태로\n",
    "    transforms.RandomAffine(degrees=10, translate=(0.05, 0.05))\n",
    "])\n",
    "\n",
    "train_ds.dataset.transform = TRAIN_TRANSFORM"
   ]
  },
  {
   "cell_type": "code",
   "execution_count": 11,
   "id": "af7c9afb-52fa-45bc-b64a-ca38af213bc6",
   "metadata": {},
   "outputs": [],
   "source": [
    "train_dl = DataLoader(train_ds, batch_size=16, shuffle=True)\n",
    "test_dl = DataLoader(test_ds, batch_size=8, shuffle=True)"
   ]
  },
  {
   "cell_type": "code",
   "execution_count": 12,
   "id": "6821286c-61e7-41e2-abd0-eeabf120830e",
   "metadata": {},
   "outputs": [],
   "source": [
    "class CusVgg16(nn.Module):\n",
    "    def __init__(self):\n",
    "        super(CusVgg16, self).__init__()\n",
    "        self.vgg = models.vgg16(weights='IMAGENET1K_V1')\n",
    "        self.vgg.features[0] = nn.Conv2d(1, 64, kernel_size=3, stride=1, padding=1)\n",
    "        self.vgg.classifier[6] = nn.Linear(4096, 1)\n",
    "        self.sigmoid = nn.Sigmoid()\n",
    "\n",
    "    def forward(self, x):\n",
    "        x = self.vgg(x)\n",
    "        x = self.sigmoid(x)\n",
    "\n",
    "        return x"
   ]
  },
  {
   "cell_type": "code",
   "execution_count": 13,
   "id": "910a2fe8-cf48-4239-84fb-705ce6cd43d6",
   "metadata": {
    "scrolled": true
   },
   "outputs": [
    {
     "data": {
      "text/plain": [
       "CusVgg16(\n",
       "  (vgg): VGG(\n",
       "    (features): Sequential(\n",
       "      (0): Conv2d(1, 64, kernel_size=(3, 3), stride=(1, 1), padding=(1, 1))\n",
       "      (1): ReLU(inplace=True)\n",
       "      (2): Conv2d(64, 64, kernel_size=(3, 3), stride=(1, 1), padding=(1, 1))\n",
       "      (3): ReLU(inplace=True)\n",
       "      (4): MaxPool2d(kernel_size=2, stride=2, padding=0, dilation=1, ceil_mode=False)\n",
       "      (5): Conv2d(64, 128, kernel_size=(3, 3), stride=(1, 1), padding=(1, 1))\n",
       "      (6): ReLU(inplace=True)\n",
       "      (7): Conv2d(128, 128, kernel_size=(3, 3), stride=(1, 1), padding=(1, 1))\n",
       "      (8): ReLU(inplace=True)\n",
       "      (9): MaxPool2d(kernel_size=2, stride=2, padding=0, dilation=1, ceil_mode=False)\n",
       "      (10): Conv2d(128, 256, kernel_size=(3, 3), stride=(1, 1), padding=(1, 1))\n",
       "      (11): ReLU(inplace=True)\n",
       "      (12): Conv2d(256, 256, kernel_size=(3, 3), stride=(1, 1), padding=(1, 1))\n",
       "      (13): ReLU(inplace=True)\n",
       "      (14): Conv2d(256, 256, kernel_size=(3, 3), stride=(1, 1), padding=(1, 1))\n",
       "      (15): ReLU(inplace=True)\n",
       "      (16): MaxPool2d(kernel_size=2, stride=2, padding=0, dilation=1, ceil_mode=False)\n",
       "      (17): Conv2d(256, 512, kernel_size=(3, 3), stride=(1, 1), padding=(1, 1))\n",
       "      (18): ReLU(inplace=True)\n",
       "      (19): Conv2d(512, 512, kernel_size=(3, 3), stride=(1, 1), padding=(1, 1))\n",
       "      (20): ReLU(inplace=True)\n",
       "      (21): Conv2d(512, 512, kernel_size=(3, 3), stride=(1, 1), padding=(1, 1))\n",
       "      (22): ReLU(inplace=True)\n",
       "      (23): MaxPool2d(kernel_size=2, stride=2, padding=0, dilation=1, ceil_mode=False)\n",
       "      (24): Conv2d(512, 512, kernel_size=(3, 3), stride=(1, 1), padding=(1, 1))\n",
       "      (25): ReLU(inplace=True)\n",
       "      (26): Conv2d(512, 512, kernel_size=(3, 3), stride=(1, 1), padding=(1, 1))\n",
       "      (27): ReLU(inplace=True)\n",
       "      (28): Conv2d(512, 512, kernel_size=(3, 3), stride=(1, 1), padding=(1, 1))\n",
       "      (29): ReLU(inplace=True)\n",
       "      (30): MaxPool2d(kernel_size=2, stride=2, padding=0, dilation=1, ceil_mode=False)\n",
       "    )\n",
       "    (avgpool): AdaptiveAvgPool2d(output_size=(7, 7))\n",
       "    (classifier): Sequential(\n",
       "      (0): Linear(in_features=25088, out_features=4096, bias=True)\n",
       "      (1): ReLU(inplace=True)\n",
       "      (2): Dropout(p=0.5, inplace=False)\n",
       "      (3): Linear(in_features=4096, out_features=4096, bias=True)\n",
       "      (4): ReLU(inplace=True)\n",
       "      (5): Dropout(p=0.5, inplace=False)\n",
       "      (6): Linear(in_features=4096, out_features=1, bias=True)\n",
       "    )\n",
       "  )\n",
       "  (sigmoid): Sigmoid()\n",
       ")"
      ]
     },
     "execution_count": 13,
     "metadata": {},
     "output_type": "execute_result"
    }
   ],
   "source": [
    "device = 'cuda' if torch.cuda.is_available() else 'cpu'\n",
    "model = CusVgg16()\n",
    "model.to(device)"
   ]
  },
  {
   "cell_type": "code",
   "execution_count": 14,
   "id": "7581764a-ac5b-4b51-b7a0-5a642d95b1a1",
   "metadata": {
    "scrolled": true
   },
   "outputs": [
    {
     "name": "stdout",
     "output_type": "stream",
     "text": [
      "0 vgg.features.0.weight\n",
      "1 vgg.features.0.bias\n",
      "2 vgg.features.2.weight\n",
      "3 vgg.features.2.bias\n",
      "4 vgg.features.5.weight\n",
      "5 vgg.features.5.bias\n",
      "6 vgg.features.7.weight\n",
      "7 vgg.features.7.bias\n",
      "8 vgg.features.10.weight\n",
      "9 vgg.features.10.bias\n",
      "10 vgg.features.12.weight\n",
      "11 vgg.features.12.bias\n",
      "12 vgg.features.14.weight\n",
      "13 vgg.features.14.bias\n",
      "14 vgg.features.17.weight\n",
      "15 vgg.features.17.bias\n",
      "16 vgg.features.19.weight\n",
      "17 vgg.features.19.bias\n",
      "18 vgg.features.21.weight\n",
      "19 vgg.features.21.bias\n",
      "20 vgg.features.24.weight\n",
      "21 vgg.features.24.bias\n",
      "22 vgg.features.26.weight\n",
      "23 vgg.features.26.bias\n",
      "24 vgg.features.28.weight\n",
      "25 vgg.features.28.bias\n",
      "26 vgg.classifier.0.weight\n",
      "27 vgg.classifier.0.bias\n",
      "28 vgg.classifier.3.weight\n",
      "29 vgg.classifier.3.bias\n",
      "30 vgg.classifier.6.weight\n",
      "31 vgg.classifier.6.bias\n"
     ]
    }
   ],
   "source": [
    "i = 0\n",
    "for name, param in model.named_parameters():\n",
    "    print(i, name)\n",
    "    i += 1"
   ]
  },
  {
   "cell_type": "code",
   "execution_count": 15,
   "id": "cab9f0a5-40f9-4cc7-bc89-375154d37487",
   "metadata": {},
   "outputs": [
    {
     "name": "stdout",
     "output_type": "stream",
     "text": [
      "requires_grad = True\n",
      "requires_grad = True\n",
      "requires_grad = True\n",
      "requires_grad = True\n"
     ]
    }
   ],
   "source": [
    "i = 0\n",
    "for name, param in model.named_parameters():\n",
    "    if i == 0 or i == 1 or i == 30 or i == 31:\n",
    "        print('requires_grad = True')\n",
    "    else:\n",
    "        param.requires_grad = False\n",
    "    i += 1"
   ]
  },
  {
   "cell_type": "code",
   "execution_count": 16,
   "id": "2ff2d170-955f-4e64-be85-9feafb26dfb3",
   "metadata": {},
   "outputs": [
    {
     "name": "stdout",
     "output_type": "stream",
     "text": [
      "True\n",
      "True\n",
      "True\n",
      "True\n",
      "False\n"
     ]
    }
   ],
   "source": [
    "print(model.vgg.features[0].weight.requires_grad)\n",
    "print(model.vgg.features[0].bias.requires_grad)\n",
    "print(model.vgg.classifier[6].weight.requires_grad)\n",
    "print(model.vgg.classifier[6].bias.requires_grad)\n",
    "print(model.vgg.classifier[3].bias.requires_grad)"
   ]
  },
  {
   "cell_type": "code",
   "execution_count": 17,
   "id": "84df2ccc-0b1b-4f23-b5d5-a8ad4326e507",
   "metadata": {},
   "outputs": [],
   "source": [
    "optimizer = torch.optim.Adam(model.parameters(), lr=0.001)\n",
    "schedular = ReduceLROnPlateau(optimizer, mode='min', factor=0.1, patience=5, verbose=True)\n",
    "weights = (metadata['normal'] == 0).sum() / (metadata['normal'] == 1).sum()\n",
    "loss_fn = nn.BCEWithLogitsLoss(pos_weight=torch.Tensor([weights])).to(device)"
   ]
  },
  {
   "cell_type": "code",
   "execution_count": 18,
   "id": "10ad465c-5bf8-41b4-a456-f6bd5a2fe1c9",
   "metadata": {},
   "outputs": [],
   "source": [
    "def train(model, data_loader, optimizer, epoch):\n",
    "    model.train()\n",
    "    running_loss = 0\n",
    "    running_acc = 0\n",
    "    n_data = 0\n",
    "\n",
    "    for batch_idx, (batch, target) in enumerate(data_loader, start=1):\n",
    "        batch, target = batch.to(device), target.to(device)\n",
    "\n",
    "        optimizer.zero_grad()\n",
    "\n",
    "        output = model(batch)\n",
    "        # print(output.shape, target.shape)\n",
    "        target_ = target\n",
    "        target = target.unsqueeze(dim=-1).float()\n",
    "\n",
    "        loss = loss_fn(output, target)\n",
    "        running_loss += loss.item()\n",
    "\n",
    "        predicted = (output >= torch.FloatTensor([0.5]).to(device)).type(torch.float32)\n",
    "        correct = (predicted == target).sum().item()\n",
    "        running_acc += correct\n",
    "\n",
    "        loss.backward()\n",
    "        optimizer.step()\n",
    "\n",
    "        n_data += len(batch)\n",
    "        print(f'\\rTrain Epoch: {epoch} [{n_data}/{len(data_loader.dataset)} ({100 * batch_idx / len(data_loader):.2f}%)]  Accuracy: {100*running_acc/n_data:.2f}%  Loss: {running_loss/batch_idx:.4f}', end='')"
   ]
  },
  {
   "cell_type": "code",
   "execution_count": 19,
   "id": "3808f73f-add2-431b-9eca-75f00acdf75d",
   "metadata": {},
   "outputs": [],
   "source": [
    "def test(model, data_loader):\n",
    "    model.eval()\n",
    "    test_acc = 0\n",
    "    test_loss = 0\n",
    "    n_data = 0\n",
    "    TP, FP, TN, FN = 0, 0, 0, 0\n",
    "    with torch.no_grad():\n",
    "        for batch, target in data_loader:\n",
    "            batch, target = batch.to(device), target.to(device)\n",
    "\n",
    "            output = model(batch)\n",
    "            target = target.unsqueeze(dim=-1).float()\n",
    "\n",
    "            loss = loss_fn(output, target)\n",
    "            test_loss += loss.item()\n",
    "\n",
    "            predicted = (output >= torch.FloatTensor([0.5]).to(device)).type(torch.float32)\n",
    "            correct = (predicted == target).sum().item()\n",
    "            test_acc += correct\n",
    "\n",
    "            TP += ((predicted == target) & (target == 1)).sum().item()\n",
    "            FP += ((predicted != target) & (target == 0)).sum().item()\n",
    "            TN += ((predicted == target) & (target == 0)).sum().item()\n",
    "            FN += ((predicted != target) & (target == 1)).sum().item()\n",
    "            \n",
    "            n_data += len(batch)\n",
    "            print(f'\\rTest set: [{100*n_data/len(data_loader.dataset):.2f}%]', end='')\n",
    "    \n",
    "    test_acc = 100 * test_acc / len(data_loader.dataset)\n",
    "    test_loss = test_loss / len(data_loader)\n",
    "    \n",
    "    print(f'\\rTest set: Accuracy: {test_acc:.2f}%  Loss: {test_loss:.4f}')\n",
    "\n",
    "    return test_acc, test_loss, TP, FP, TN, FN"
   ]
  },
  {
   "cell_type": "code",
   "execution_count": 20,
   "id": "962909b8-5b13-4534-a91c-36286985edc8",
   "metadata": {},
   "outputs": [],
   "source": [
    "def getMetric(TP, FP, TN, FN):\n",
    "    # base case: divide by zero\n",
    "    TP = 0.1 if TP == 0 else TP\n",
    "    FP = 0.1 if FP == 0 else FP\n",
    "    TN = 0.1 if TN == 0 else TN\n",
    "    FN = 0.1 if FN == 0 else FN\n",
    "    \n",
    "    sensitivity = TP/(TP+FN)\n",
    "    specificity = TN/(TN+FP)\n",
    "    precision = TP/(TP+FP)\n",
    "    recall = TP/(TP+FN)\n",
    "    f1_score = 2*precision*recall/(precision+recall)\n",
    "    return sensitivity, specificity, f1_score"
   ]
  },
  {
   "cell_type": "code",
   "execution_count": 21,
   "id": "406f5f21-9ae0-4949-a020-02ec60aba9a6",
   "metadata": {},
   "outputs": [],
   "source": [
    "accs = []\n",
    "losses = []\n",
    "best_acc = 0\n",
    "best_f1 = 0\n",
    "\n",
    "best_acc_model = None\n",
    "best_acc_model_state = None\n",
    "best_f1_model = None\n",
    "best_f1_model_state = None"
   ]
  },
  {
   "cell_type": "code",
   "execution_count": 22,
   "id": "b133f06c-9641-4843-a51c-c653ac6e4fc5",
   "metadata": {
    "scrolled": true
   },
   "outputs": [
    {
     "name": "stdout",
     "output_type": "stream",
     "text": [
      "Train Epoch: 1 [3358/3358 (100.00%)]  Accuracy: 56.85%  Loss: 0.7928\n",
      "Test set: Accuracy: 55.12%  Loss: 0.7861\n",
      "TP: 188, FP: 64, TN: 275, FN: 313\n",
      "Sensitivity: 0.3752, Specificity: 0.8112, F1-Score: 0.4993\n",
      "================================================================\n",
      "Train Epoch: 2 [3358/3358 (100.00%)]  Accuracy: 60.33%  Loss: 0.7741\n",
      "Test set: Accuracy: 59.29%  Loss: 0.7698\n",
      "TP: 366, FP: 207, TN: 132, FN: 135\n",
      "Sensitivity: 0.7305, Specificity: 0.3894, F1-Score: 0.6816\n",
      "================================================================\n",
      "Train Epoch: 3 [3358/3358 (100.00%)]  Accuracy: 62.12%  Loss: 0.7640\n",
      "Test set: Accuracy: 61.19%  Loss: 0.7642\n",
      "TP: 303, FP: 128, TN: 211, FN: 198\n",
      "Sensitivity: 0.6048, Specificity: 0.6224, F1-Score: 0.6502\n",
      "================================================================\n",
      "Train Epoch: 4 [3358/3358 (100.00%)]  Accuracy: 61.11%  Loss: 0.7666\n",
      "Test set: Accuracy: 61.79%  Loss: 0.7613\n",
      "TP: 360, FP: 180, TN: 159, FN: 141\n",
      "Sensitivity: 0.7186, Specificity: 0.4690, F1-Score: 0.6916\n",
      "================================================================\n",
      "Train Epoch: 5 [3358/3358 (100.00%)]  Accuracy: 63.16%  Loss: 0.7587\n",
      "Test set: Accuracy: 59.29%  Loss: 0.7636\n",
      "TP: 331, FP: 172, TN: 167, FN: 170\n",
      "Sensitivity: 0.6607, Specificity: 0.4926, F1-Score: 0.6594\n",
      "================================================================\n",
      "Train Epoch: 6 [3358/3358 (100.00%)]  Accuracy: 63.40%  Loss: 0.7591\n",
      "Test set: Accuracy: 62.26%  Loss: 0.7629\n",
      "TP: 424, FP: 240, TN: 99, FN: 77\n",
      "Sensitivity: 0.8463, Specificity: 0.2920, F1-Score: 0.7279\n",
      "================================================================\n",
      "Train Epoch: 7 [3358/3358 (100.00%)]  Accuracy: 63.52%  Loss: 0.7551\n",
      "Test set: Accuracy: 62.62%  Loss: 0.7594\n",
      "TP: 368, FP: 181, TN: 158, FN: 133\n",
      "Sensitivity: 0.7345, Specificity: 0.4661, F1-Score: 0.7010\n",
      "================================================================\n",
      "Train Epoch: 8 [3358/3358 (100.00%)]  Accuracy: 63.13%  Loss: 0.7569\n",
      "Test set: Accuracy: 62.62%  Loss: 0.7588\n",
      "TP: 379, FP: 192, TN: 147, FN: 122\n",
      "Sensitivity: 0.7565, Specificity: 0.4336, F1-Score: 0.7071\n",
      "================================================================\n",
      "Train Epoch: 9 [3358/3358 (100.00%)]  Accuracy: 63.61%  Loss: 0.7564\n",
      "Test set: Accuracy: 62.02%  Loss: 0.7606\n",
      "TP: 358, FP: 176, TN: 163, FN: 143\n",
      "Sensitivity: 0.7146, Specificity: 0.4808, F1-Score: 0.6918\n",
      "================================================================\n",
      "Train Epoch: 10 [3358/3358 (100.00%)]  Accuracy: 62.89%  Loss: 0.7584\n",
      "Test set: Accuracy: 62.98%  Loss: 0.7609\n",
      "TP: 425, FP: 235, TN: 104, FN: 76\n",
      "Sensitivity: 0.8483, Specificity: 0.3068, F1-Score: 0.7321\n",
      "================================================================\n",
      "Train Epoch: 11 [3358/3358 (100.00%)]  Accuracy: 64.09%  Loss: 0.7529\n",
      "Test set: Accuracy: 60.48%  Loss: 0.7669\n",
      "TP: 267, FP: 98, TN: 241, FN: 234\n",
      "Sensitivity: 0.5329, Specificity: 0.7109, F1-Score: 0.6166\n",
      "================================================================\n",
      "Train Epoch: 12 [3358/3358 (100.00%)]  Accuracy: 63.88%  Loss: 0.7552\n",
      "Test set: Accuracy: 62.38%  Loss: 0.7626\n",
      "TP: 402, FP: 217, TN: 122, FN: 99\n",
      "Sensitivity: 0.8024, Specificity: 0.3599, F1-Score: 0.7179\n",
      "================================================================\n",
      "Train Epoch: 13 [3358/3358 (100.00%)]  Accuracy: 64.62%  Loss: 0.7537\n",
      "Test set: Accuracy: 62.02%  Loss: 0.7581\n",
      "TP: 358, FP: 176, TN: 163, FN: 143\n",
      "Sensitivity: 0.7146, Specificity: 0.4808, F1-Score: 0.6918\n",
      "================================================================\n",
      "Train Epoch: 14 [3358/3358 (100.00%)]  Accuracy: 64.65%  Loss: 0.7520\n",
      "Test set: Accuracy: 61.79%  Loss: 0.7588\n",
      "TP: 359, FP: 179, TN: 160, FN: 142\n",
      "Sensitivity: 0.7166, Specificity: 0.4720, F1-Score: 0.6910\n",
      "================================================================\n",
      "Train Epoch: 15 [3358/3358 (100.00%)]  Accuracy: 64.59%  Loss: 0.7508\n",
      "Test set: Accuracy: 61.31%  Loss: 0.7617\n",
      "TP: 362, FP: 186, TN: 153, FN: 139\n",
      "Sensitivity: 0.7226, Specificity: 0.4513, F1-Score: 0.6902\n",
      "================================================================\n",
      "Train Epoch: 16 [3358/3358 (100.00%)]  Accuracy: 64.74%  Loss: 0.7505\n",
      "Test set: Accuracy: 62.86%  Loss: 0.7555\n",
      "TP: 391, FP: 202, TN: 137, FN: 110\n",
      "Sensitivity: 0.7804, Specificity: 0.4041, F1-Score: 0.7148\n",
      "================================================================\n",
      "Train Epoch: 17 [3358/3358 (100.00%)]  Accuracy: 62.36%  Loss: 0.7585\n",
      "Test set: Accuracy: 64.40%  Loss: 0.7545\n",
      "TP: 428, FP: 226, TN: 113, FN: 73\n",
      "Sensitivity: 0.8543, Specificity: 0.3333, F1-Score: 0.7411\n",
      "================================================================\n",
      "Train Epoch: 18 [3358/3358 (100.00%)]  Accuracy: 64.56%  Loss: 0.7522\n",
      "Test set: Accuracy: 61.31%  Loss: 0.7567\n",
      "TP: 329, FP: 153, TN: 186, FN: 172\n",
      "Sensitivity: 0.6567, Specificity: 0.5487, F1-Score: 0.6694\n",
      "================================================================\n",
      "Train Epoch: 19 [3358/3358 (100.00%)]  Accuracy: 64.03%  Loss: 0.7539\n",
      "Test set: Accuracy: 62.26%  Loss: 0.7555\n",
      "TP: 314, FP: 130, TN: 209, FN: 187\n",
      "Sensitivity: 0.6267, Specificity: 0.6165, F1-Score: 0.6646\n",
      "================================================================\n",
      "Train Epoch: 20 [3358/3358 (100.00%)]  Accuracy: 62.42%  Loss: 0.7582\n",
      "Test set: Accuracy: 60.95%  Loss: 0.7565\n",
      "TP: 320, FP: 147, TN: 192, FN: 181\n",
      "Sensitivity: 0.6387, Specificity: 0.5664, F1-Score: 0.6612\n",
      "================================================================\n",
      "Train Epoch: 21 [3358/3358 (100.00%)]  Accuracy: 63.76%  Loss: 0.7518\n",
      "Test set: Accuracy: 61.90%  Loss: 0.7583\n",
      "TP: 334, FP: 153, TN: 186, FN: 167\n",
      "Sensitivity: 0.6667, Specificity: 0.5487, F1-Score: 0.6761\n",
      "================================================================\n",
      "Train Epoch: 22 [3358/3358 (100.00%)]  Accuracy: 65.16%  Loss: 0.7490\n",
      "Test set: Accuracy: 62.62%  Loss: 0.7552\n",
      "TP: 310, FP: 123, TN: 216, FN: 191\n",
      "Sensitivity: 0.6188, Specificity: 0.6372, F1-Score: 0.6638\n",
      "================================================================\n",
      "Train Epoch: 23 [3358/3358 (100.00%)]  Accuracy: 64.06%  Loss: 0.7516\n",
      "Test set: Accuracy: 63.81%  Loss: 0.7517\n",
      "TP: 389, FP: 192, TN: 147, FN: 112\n",
      "Sensitivity: 0.7764, Specificity: 0.4336, F1-Score: 0.7190\n",
      "================================================================\n",
      "Train Epoch: 24 [3358/3358 (100.00%)]  Accuracy: 64.47%  Loss: 0.7520\n",
      "Test set: Accuracy: 64.29%  Loss: 0.7505\n",
      "TP: 404, FP: 203, TN: 136, FN: 97\n",
      "Sensitivity: 0.8064, Specificity: 0.4012, F1-Score: 0.7292\n",
      "================================================================\n",
      "Train Epoch: 25 [3358/3358 (100.00%)]  Accuracy: 64.86%  Loss: 0.7498\n",
      "Test set: Accuracy: 64.52%  Loss: 0.7522\n",
      "TP: 427, FP: 224, TN: 115, FN: 74\n",
      "Sensitivity: 0.8523, Specificity: 0.3392, F1-Score: 0.7413\n",
      "================================================================\n",
      "Train Epoch: 26 [3358/3358 (100.00%)]  Accuracy: 63.46%  Loss: 0.7572\n",
      "Test set: Accuracy: 62.86%  Loss: 0.7578\n",
      "TP: 355, FP: 166, TN: 173, FN: 146\n",
      "Sensitivity: 0.7086, Specificity: 0.5103, F1-Score: 0.6947\n",
      "================================================================\n",
      "Train Epoch: 27 [3358/3358 (100.00%)]  Accuracy: 64.59%  Loss: 0.7492\n",
      "Test set: Accuracy: 63.81%  Loss: 0.7490\n",
      "TP: 345, FP: 148, TN: 191, FN: 156\n",
      "Sensitivity: 0.6886, Specificity: 0.5634, F1-Score: 0.6942\n",
      "================================================================\n",
      "Train Epoch: 28 [3358/3358 (100.00%)]  Accuracy: 64.44%  Loss: 0.7519\n",
      "Test set: Accuracy: 61.90%  Loss: 0.7555\n",
      "TP: 290, FP: 109, TN: 230, FN: 211\n",
      "Sensitivity: 0.5788, Specificity: 0.6785, F1-Score: 0.6444\n",
      "================================================================\n",
      "Train Epoch: 29 [3358/3358 (100.00%)]  Accuracy: 64.80%  Loss: 0.7507\n",
      "Test set: Accuracy: 64.29%  Loss: 0.7473\n",
      "TP: 353, FP: 152, TN: 187, FN: 148\n",
      "Sensitivity: 0.7046, Specificity: 0.5516, F1-Score: 0.7018\n",
      "================================================================\n",
      "Train Epoch: 30 [3358/3358 (100.00%)]  Accuracy: 64.47%  Loss: 0.7505\n",
      "Test set: Accuracy: 64.05%  Loss: 0.7476\n",
      "TP: 346, FP: 147, TN: 192, FN: 155\n",
      "Sensitivity: 0.6906, Specificity: 0.5664, F1-Score: 0.6962\n",
      "================================================================\n"
     ]
    }
   ],
   "source": [
    "for epoch in range(1, 30+1):\n",
    "    train(model, train_dl, optimizer, epoch)\n",
    "    \n",
    "    print()\n",
    "    \n",
    "    acc, loss, tp, fp, tn, fn = test(model, test_dl)\n",
    "    sensitivity, specificity, f1_score = getMetric(tp, fp, tn, fn)\n",
    "    print(f'TP: {tp}, FP: {fp}, TN: {tn}, FN: {fn}')\n",
    "    print(f'Sensitivity: {sensitivity:.4f}, Specificity: {specificity:.4f}, F1-Score: {f1_score:.4f}')\n",
    "\n",
    "    if acc > best_acc:\n",
    "        best_acc = acc\n",
    "        best_acc_model = deepcopy(model)\n",
    "        best_acc_model_state = deepcopy(model.state_dict())\n",
    "\n",
    "    if f1_score > best_f1:\n",
    "        best_f1 = f1_score\n",
    "        best_f1_model = deepcopy(model)\n",
    "        best_f1_model_state = deepcopy(model.state_dict())\n",
    "        \n",
    "    schedular.step(loss)\n",
    "    accs.append(acc)\n",
    "    losses.append(loss)\n",
    "\n",
    "    print('================================================================')"
   ]
  },
  {
   "cell_type": "code",
   "execution_count": 23,
   "id": "0001987a-1166-4936-af98-0ce84f96c334",
   "metadata": {},
   "outputs": [],
   "source": [
    "accs_np = np.array(accs)\n",
    "losses_np = np.array(losses)\n",
    "np.save('./parameters/seg_acc_.npy', accs_np)\n",
    "np.save('./parameters/seg_loss_.npy', losses_np)\n",
    "\n",
    "torch.save(best_acc_model, './parameters/seg_best_acc_model_.pt')\n",
    "torch.save(best_acc_model_state, './parameters/seg_best_acc_model_state_.pt')\n",
    "torch.save(best_f1_model, './parameters/seg_best_f1_model_.pt')\n",
    "torch.save(best_f1_model_state, './parameters/seg_best_f1_model_state_.pt')"
   ]
  }
 ],
 "metadata": {
  "kernelspec": {
   "display_name": "Python 3 (ipykernel)",
   "language": "python",
   "name": "python3"
  },
  "language_info": {
   "codemirror_mode": {
    "name": "ipython",
    "version": 3
   },
   "file_extension": ".py",
   "mimetype": "text/x-python",
   "name": "python",
   "nbconvert_exporter": "python",
   "pygments_lexer": "ipython3",
   "version": "3.10.9"
  }
 },
 "nbformat": 4,
 "nbformat_minor": 5
}
