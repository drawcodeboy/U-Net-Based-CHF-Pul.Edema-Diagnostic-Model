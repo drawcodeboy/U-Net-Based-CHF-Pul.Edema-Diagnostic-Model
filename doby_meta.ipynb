{
 "cells": [
  {
   "cell_type": "code",
   "execution_count": 1,
   "id": "954bff16-3444-4d23-b8f0-f72645dad51a",
   "metadata": {},
   "outputs": [],
   "source": [
    "import pandas as pd\n",
    "import matplotlib.pyplot as plt\n",
    "import os\n",
    "os.environ['KMP_DUPLICATE_LIB_OK'] = 'True'"
   ]
  },
  {
   "cell_type": "code",
   "execution_count": 10,
   "id": "ea7e2d40-a9b9-4a68-8a15-9d27cea29b2c",
   "metadata": {},
   "outputs": [],
   "source": [
    "cxr_meta = pd.read_csv('./physionet.org/files/mimic-cxr-jpg/2.0.0/files/mimic-cxr-2.0.0-metadata.csv')"
   ]
  },
  {
   "cell_type": "code",
   "execution_count": 11,
   "id": "68b8bdb4-eef5-49ea-bbd5-dd84bfc6c0c3",
   "metadata": {},
   "outputs": [
    {
     "name": "stdout",
     "output_type": "stream",
     "text": [
      "<class 'pandas.core.frame.DataFrame'>\n",
      "RangeIndex: 377110 entries, 0 to 377109\n",
      "Data columns (total 12 columns):\n",
      " #   Column                                      Non-Null Count   Dtype  \n",
      "---  ------                                      --------------   -----  \n",
      " 0   dicom_id                                    377110 non-null  object \n",
      " 1   subject_id                                  377110 non-null  int64  \n",
      " 2   study_id                                    377110 non-null  int64  \n",
      " 3   PerformedProcedureStepDescription           341598 non-null  object \n",
      " 4   ViewPosition                                361341 non-null  object \n",
      " 5   Rows                                        377110 non-null  int64  \n",
      " 6   Columns                                     377110 non-null  int64  \n",
      " 7   StudyDate                                   377110 non-null  int64  \n",
      " 8   StudyTime                                   377110 non-null  float64\n",
      " 9   ProcedureCodeSequence_CodeMeaning           377110 non-null  object \n",
      " 10  ViewCodeSequence_CodeMeaning                360613 non-null  object \n",
      " 11  PatientOrientationCodeSequence_CodeMeaning  335944 non-null  object \n",
      "dtypes: float64(1), int64(5), object(6)\n",
      "memory usage: 34.5+ MB\n"
     ]
    }
   ],
   "source": [
    "cxr_meta.info()"
   ]
  },
  {
   "cell_type": "code",
   "execution_count": 12,
   "id": "eab84027-f357-4323-a417-3512b7d26267",
   "metadata": {},
   "outputs": [
    {
     "data": {
      "text/plain": [
       "subject_id\n",
       "10000032     7\n",
       "10000764     3\n",
       "10000898     5\n",
       "10000935    10\n",
       "10000980    16\n",
       "            ..\n",
       "19999287     9\n",
       "19999376     1\n",
       "19999442     2\n",
       "19999733     3\n",
       "19999987     3\n",
       "Length: 65379, dtype: int64"
      ]
     },
     "execution_count": 12,
     "metadata": {},
     "output_type": "execute_result"
    }
   ],
   "source": [
    "g1 = cxr_meta.groupby('subject_id')\n",
    "g1.size()"
   ]
  },
  {
   "cell_type": "code",
   "execution_count": 13,
   "id": "cd81cca0-f4ec-474d-820e-d39bb2fc0eb3",
   "metadata": {},
   "outputs": [
    {
     "name": "stdout",
     "output_type": "stream",
     "text": [
      "<class 'pandas.core.frame.DataFrame'>\n",
      "Index: 226718 entries, 0 to 226717\n",
      "Data columns (total 12 columns):\n",
      " #   Column                                      Non-Null Count   Dtype  \n",
      "---  ------                                      --------------   -----  \n",
      " 0   dicom_id                                    226718 non-null  object \n",
      " 1   subject_id                                  226718 non-null  int64  \n",
      " 2   study_id                                    226718 non-null  int64  \n",
      " 3   PerformedProcedureStepDescription           205111 non-null  object \n",
      " 4   ViewPosition                                217275 non-null  object \n",
      " 5   Rows                                        226718 non-null  int64  \n",
      " 6   Columns                                     226718 non-null  int64  \n",
      " 7   StudyDate                                   226718 non-null  int64  \n",
      " 8   StudyTime                                   226718 non-null  float64\n",
      " 9   ProcedureCodeSequence_CodeMeaning           226718 non-null  object \n",
      " 10  ViewCodeSequence_CodeMeaning                216816 non-null  object \n",
      " 11  PatientOrientationCodeSequence_CodeMeaning  201910 non-null  object \n",
      "dtypes: float64(1), int64(5), object(6)\n",
      "memory usage: 22.5+ MB\n"
     ]
    }
   ],
   "source": [
    "cxr_meta = cxr_meta[cxr_meta['subject_id'] < 16000000]\n",
    "cxr_meta.info()"
   ]
  },
  {
   "cell_type": "code",
   "execution_count": 14,
   "id": "afdd7cc2-b963-477e-b0e8-fcbbdee378d0",
   "metadata": {},
   "outputs": [
    {
     "data": {
      "text/plain": [
       "subject_id\n",
       "10000032     7\n",
       "10000764     3\n",
       "10000898     5\n",
       "10000935    10\n",
       "10000980    16\n",
       "            ..\n",
       "15999159     3\n",
       "15999356     6\n",
       "15999409     6\n",
       "15999575     8\n",
       "15999702     4\n",
       "Length: 39139, dtype: int64"
      ]
     },
     "execution_count": 14,
     "metadata": {},
     "output_type": "execute_result"
    }
   ],
   "source": [
    "g2 = cxr_meta.groupby('subject_id')\n",
    "g2.size()"
   ]
  },
  {
   "cell_type": "code",
   "execution_count": 19,
   "id": "dd579f90-c7fe-432f-a877-7187a783c6c3",
   "metadata": {},
   "outputs": [
    {
     "name": "stdout",
     "output_type": "stream",
     "text": [
      "<class 'pandas.core.frame.DataFrame'>\n",
      "RangeIndex: 377097 entries, 0 to 377096\n",
      "Data columns (total 8 columns):\n",
      " #   Column            Non-Null Count   Dtype \n",
      "---  ------            --------------   ----- \n",
      " 0   dicom_id          377097 non-null  object\n",
      " 1   study_id          377097 non-null  int64 \n",
      " 2   subject_id        377097 non-null  int64 \n",
      " 3   gender            377097 non-null  object\n",
      " 4   report_available  377097 non-null  bool  \n",
      " 5   dicom_available   377097 non-null  bool  \n",
      " 6   CHF               377097 non-null  bool  \n",
      " 7   view              377097 non-null  object\n",
      "dtypes: bool(3), int64(2), object(3)\n",
      "memory usage: 15.5+ MB\n"
     ]
    }
   ],
   "source": [
    "chf_meta = pd.read_csv('./pulmonary-edema-severity-grades-based-on-mimic-cxr-1.0.1/pulmonary-edema-severity-grades-based-on-mimic-cxr-1.0.1/auxiliary_metadata/mimic_cxr_metadata_available_CHF_view.csv')\n",
    "chf_meta.info()"
   ]
  },
  {
   "cell_type": "code",
   "execution_count": 20,
   "id": "132fb26f-7788-422a-8ac2-3e9b24e8fd85",
   "metadata": {},
   "outputs": [
    {
     "name": "stdout",
     "output_type": "stream",
     "text": [
      "<class 'pandas.core.frame.DataFrame'>\n",
      "RangeIndex: 226693 entries, 0 to 226692\n",
      "Data columns (total 9 columns):\n",
      " #   Column            Non-Null Count   Dtype \n",
      "---  ------            --------------   ----- \n",
      " 0   dicom_id          226693 non-null  object\n",
      " 1   subject_id        226693 non-null  int64 \n",
      " 2   study_id          226693 non-null  int64 \n",
      " 3   CHF_x             226693 non-null  bool  \n",
      " 4   gender            226693 non-null  object\n",
      " 5   report_available  226693 non-null  bool  \n",
      " 6   dicom_available   226693 non-null  bool  \n",
      " 7   CHF_y             226693 non-null  bool  \n",
      " 8   view              226693 non-null  object\n",
      "dtypes: bool(4), int64(2), object(3)\n",
      "memory usage: 9.5+ MB\n"
     ]
    }
   ],
   "source": [
    "cxr_meta = pd.merge(cxr_meta, chf_meta, on=['dicom_id', 'study_id', 'subject_id'], how='inner')\n",
    "cxr_meta.info()"
   ]
  },
  {
   "cell_type": "code",
   "execution_count": 21,
   "id": "44e5004b-7346-4a5c-99fc-127ed0587077",
   "metadata": {},
   "outputs": [
    {
     "name": "stdout",
     "output_type": "stream",
     "text": [
      "<class 'pandas.core.frame.DataFrame'>\n",
      "Index: 148927 entries, 0 to 226692\n",
      "Data columns (total 9 columns):\n",
      " #   Column            Non-Null Count   Dtype \n",
      "---  ------            --------------   ----- \n",
      " 0   dicom_id          148927 non-null  object\n",
      " 1   subject_id        148927 non-null  int64 \n",
      " 2   study_id          148927 non-null  int64 \n",
      " 3   CHF_x             148927 non-null  bool  \n",
      " 4   gender            148927 non-null  object\n",
      " 5   report_available  148927 non-null  bool  \n",
      " 6   dicom_available   148927 non-null  bool  \n",
      " 7   CHF_y             148927 non-null  bool  \n",
      " 8   view              148927 non-null  object\n",
      "dtypes: bool(4), int64(2), object(3)\n",
      "memory usage: 7.4+ MB\n"
     ]
    }
   ],
   "source": [
    "cxr_meta = cxr_meta[(cxr_meta['report_available'] == True) & (cxr_meta['dicom_available'] == True) & (cxr_meta['view'] == 'frontal')]\n",
    "cxr_meta.info()"
   ]
  },
  {
   "cell_type": "code",
   "execution_count": 23,
   "id": "0b2eaff5-e623-4a3f-b117-8360aa43f065",
   "metadata": {},
   "outputs": [
    {
     "ename": "KeyError",
     "evalue": "\"['CHF_X'] not in index\"",
     "output_type": "error",
     "traceback": [
      "\u001b[1;31m---------------------------------------------------------------------------\u001b[0m",
      "\u001b[1;31mKeyError\u001b[0m                                  Traceback (most recent call last)",
      "Cell \u001b[1;32mIn[23], line 1\u001b[0m\n\u001b[1;32m----> 1\u001b[0m cxr_meta \u001b[38;5;241m=\u001b[39m cxr_meta[[\u001b[38;5;124m'\u001b[39m\u001b[38;5;124mdicom_id\u001b[39m\u001b[38;5;124m'\u001b[39m, \u001b[38;5;124m'\u001b[39m\u001b[38;5;124msubject_id\u001b[39m\u001b[38;5;124m'\u001b[39m, \u001b[38;5;124m'\u001b[39m\u001b[38;5;124mstudy_id\u001b[39m\u001b[38;5;124m'\u001b[39m, \u001b[38;5;124m'\u001b[39m\u001b[38;5;124mCHF_X\u001b[39m\u001b[38;5;124m'\u001b[39m]]\n\u001b[0;32m      2\u001b[0m cxr_meta\u001b[38;5;241m.\u001b[39minfo()\n",
      "File \u001b[1;32m~\\anaconda3\\envs\\doby\\Lib\\site-packages\\pandas\\core\\frame.py:3899\u001b[0m, in \u001b[0;36mDataFrame.__getitem__\u001b[1;34m(self, key)\u001b[0m\n\u001b[0;32m   3897\u001b[0m     \u001b[38;5;28;01mif\u001b[39;00m is_iterator(key):\n\u001b[0;32m   3898\u001b[0m         key \u001b[38;5;241m=\u001b[39m \u001b[38;5;28mlist\u001b[39m(key)\n\u001b[1;32m-> 3899\u001b[0m     indexer \u001b[38;5;241m=\u001b[39m \u001b[38;5;28mself\u001b[39m\u001b[38;5;241m.\u001b[39mcolumns\u001b[38;5;241m.\u001b[39m_get_indexer_strict(key, \u001b[38;5;124m\"\u001b[39m\u001b[38;5;124mcolumns\u001b[39m\u001b[38;5;124m\"\u001b[39m)[\u001b[38;5;241m1\u001b[39m]\n\u001b[0;32m   3901\u001b[0m \u001b[38;5;66;03m# take() does not accept boolean indexers\u001b[39;00m\n\u001b[0;32m   3902\u001b[0m \u001b[38;5;28;01mif\u001b[39;00m \u001b[38;5;28mgetattr\u001b[39m(indexer, \u001b[38;5;124m\"\u001b[39m\u001b[38;5;124mdtype\u001b[39m\u001b[38;5;124m\"\u001b[39m, \u001b[38;5;28;01mNone\u001b[39;00m) \u001b[38;5;241m==\u001b[39m \u001b[38;5;28mbool\u001b[39m:\n",
      "File \u001b[1;32m~\\anaconda3\\envs\\doby\\Lib\\site-packages\\pandas\\core\\indexes\\base.py:6115\u001b[0m, in \u001b[0;36mIndex._get_indexer_strict\u001b[1;34m(self, key, axis_name)\u001b[0m\n\u001b[0;32m   6112\u001b[0m \u001b[38;5;28;01melse\u001b[39;00m:\n\u001b[0;32m   6113\u001b[0m     keyarr, indexer, new_indexer \u001b[38;5;241m=\u001b[39m \u001b[38;5;28mself\u001b[39m\u001b[38;5;241m.\u001b[39m_reindex_non_unique(keyarr)\n\u001b[1;32m-> 6115\u001b[0m \u001b[38;5;28mself\u001b[39m\u001b[38;5;241m.\u001b[39m_raise_if_missing(keyarr, indexer, axis_name)\n\u001b[0;32m   6117\u001b[0m keyarr \u001b[38;5;241m=\u001b[39m \u001b[38;5;28mself\u001b[39m\u001b[38;5;241m.\u001b[39mtake(indexer)\n\u001b[0;32m   6118\u001b[0m \u001b[38;5;28;01mif\u001b[39;00m \u001b[38;5;28misinstance\u001b[39m(key, Index):\n\u001b[0;32m   6119\u001b[0m     \u001b[38;5;66;03m# GH 42790 - Preserve name from an Index\u001b[39;00m\n",
      "File \u001b[1;32m~\\anaconda3\\envs\\doby\\Lib\\site-packages\\pandas\\core\\indexes\\base.py:6179\u001b[0m, in \u001b[0;36mIndex._raise_if_missing\u001b[1;34m(self, key, indexer, axis_name)\u001b[0m\n\u001b[0;32m   6176\u001b[0m     \u001b[38;5;28;01mraise\u001b[39;00m \u001b[38;5;167;01mKeyError\u001b[39;00m(\u001b[38;5;124mf\u001b[39m\u001b[38;5;124m\"\u001b[39m\u001b[38;5;124mNone of [\u001b[39m\u001b[38;5;132;01m{\u001b[39;00mkey\u001b[38;5;132;01m}\u001b[39;00m\u001b[38;5;124m] are in the [\u001b[39m\u001b[38;5;132;01m{\u001b[39;00maxis_name\u001b[38;5;132;01m}\u001b[39;00m\u001b[38;5;124m]\u001b[39m\u001b[38;5;124m\"\u001b[39m)\n\u001b[0;32m   6178\u001b[0m not_found \u001b[38;5;241m=\u001b[39m \u001b[38;5;28mlist\u001b[39m(ensure_index(key)[missing_mask\u001b[38;5;241m.\u001b[39mnonzero()[\u001b[38;5;241m0\u001b[39m]]\u001b[38;5;241m.\u001b[39munique())\n\u001b[1;32m-> 6179\u001b[0m \u001b[38;5;28;01mraise\u001b[39;00m \u001b[38;5;167;01mKeyError\u001b[39;00m(\u001b[38;5;124mf\u001b[39m\u001b[38;5;124m\"\u001b[39m\u001b[38;5;132;01m{\u001b[39;00mnot_found\u001b[38;5;132;01m}\u001b[39;00m\u001b[38;5;124m not in index\u001b[39m\u001b[38;5;124m\"\u001b[39m)\n",
      "\u001b[1;31mKeyError\u001b[0m: \"['CHF_X'] not in index\""
     ]
    }
   ],
   "source": [
    "cxr_meta = cxr_meta[['dicom_id', 'subject_id', 'study_id', 'CHF_X']]\n",
    "cxr_meta.info()"
   ]
  },
  {
   "cell_type": "code",
   "execution_count": 18,
   "id": "8de3579e-6bd2-4c94-b2a2-db1995715459",
   "metadata": {},
   "outputs": [
    {
     "name": "stdout",
     "output_type": "stream",
     "text": [
      "<class 'pandas.core.frame.DataFrame'>\n",
      "RangeIndex: 7137 entries, 0 to 7136\n",
      "Data columns (total 6 columns):\n",
      " #   Column          Non-Null Count  Dtype \n",
      "---  ------          --------------  ----- \n",
      " 0   subject_id      7137 non-null   int64 \n",
      " 1   study_id        7137 non-null   int64 \n",
      " 2   dicom_id        7137 non-null   object\n",
      " 3   DicomPath       7137 non-null   object\n",
      " 4   edema_severity  7137 non-null   int64 \n",
      " 5   normal          7137 non-null   int64 \n",
      "dtypes: int64(4), object(2)\n",
      "memory usage: 334.7+ KB\n"
     ]
    }
   ],
   "source": [
    "doby_meta = pd.read_csv('./doby_demo_metadata.csv')\n",
    "doby_meta.info()"
   ]
  },
  {
   "cell_type": "code",
   "execution_count": 14,
   "id": "5e014f5a-8302-4026-af33-97527db29085",
   "metadata": {
    "execution": {
     "iopub.execute_input": "2024-01-19T00:50:12.733517Z",
     "iopub.status.busy": "2024-01-19T00:50:12.731520Z",
     "iopub.status.idle": "2024-01-19T00:50:12.917030Z",
     "shell.execute_reply": "2024-01-19T00:50:12.916031Z",
     "shell.execute_reply.started": "2024-01-19T00:50:12.733517Z"
    }
   },
   "outputs": [
    {
     "name": "stdout",
     "output_type": "stream",
     "text": [
      "<class 'pandas.core.frame.DataFrame'>\n",
      "Int64Index: 7064 entries, 0 to 7063\n",
      "Data columns (total 7 columns):\n",
      " #   Column          Non-Null Count  Dtype \n",
      "---  ------          --------------  ----- \n",
      " 0   subject_id      7064 non-null   int64 \n",
      " 1   study_id        7064 non-null   int64 \n",
      " 2   dicom_id        7064 non-null   object\n",
      " 3   DicomPath       7064 non-null   object\n",
      " 4   edema_severity  7064 non-null   int64 \n",
      " 5   normal          7064 non-null   int64 \n",
      " 6   CHF             7064 non-null   bool  \n",
      "dtypes: bool(1), int64(4), object(2)\n",
      "memory usage: 393.2+ KB\n"
     ]
    }
   ],
   "source": [
    "doby_meta = pd.merge(doby_meta, cxr_meta, on=['subject_id', 'study_id', 'dicom_id'], how='inner')\n",
    "doby_meta.info()"
   ]
  },
  {
   "cell_type": "code",
   "execution_count": 20,
   "id": "0c78f83b-25b6-4878-85fa-34891d24afb0",
   "metadata": {
    "execution": {
     "iopub.execute_input": "2024-01-19T00:53:41.402793Z",
     "iopub.status.busy": "2024-01-19T00:53:41.401796Z",
     "iopub.status.idle": "2024-01-19T00:53:41.415759Z",
     "shell.execute_reply": "2024-01-19T00:53:41.413770Z",
     "shell.execute_reply.started": "2024-01-19T00:53:41.402793Z"
    }
   },
   "outputs": [
    {
     "data": {
      "text/plain": [
       "0"
      ]
     },
     "execution_count": 20,
     "metadata": {},
     "output_type": "execute_result"
    }
   ],
   "source": [
    "(doby_meta['CHF'] == False).sum()"
   ]
  },
  {
   "cell_type": "code",
   "execution_count": 22,
   "id": "74e6fd6a-934c-4f02-a591-f774de49320f",
   "metadata": {
    "execution": {
     "iopub.execute_input": "2024-01-19T00:54:43.197633Z",
     "iopub.status.busy": "2024-01-19T00:54:43.196637Z",
     "iopub.status.idle": "2024-01-19T00:54:43.290384Z",
     "shell.execute_reply": "2024-01-19T00:54:43.289390Z",
     "shell.execute_reply.started": "2024-01-19T00:54:43.197633Z"
    }
   },
   "outputs": [],
   "source": [
    "doby_meta.to_csv('./doby_meta.csv', index=False)"
   ]
  },
  {
   "cell_type": "code",
   "execution_count": 23,
   "id": "d9762bb2-3868-417f-b8a7-f21539069d9f",
   "metadata": {
    "execution": {
     "iopub.execute_input": "2024-01-19T00:59:06.787128Z",
     "iopub.status.busy": "2024-01-19T00:59:06.786131Z",
     "iopub.status.idle": "2024-01-19T00:59:06.853950Z",
     "shell.execute_reply": "2024-01-19T00:59:06.851966Z",
     "shell.execute_reply.started": "2024-01-19T00:59:06.787128Z"
    }
   },
   "outputs": [
    {
     "name": "stdout",
     "output_type": "stream",
     "text": [
      "<class 'pandas.core.frame.DataFrame'>\n",
      "RangeIndex: 7064 entries, 0 to 7063\n",
      "Data columns (total 7 columns):\n",
      " #   Column          Non-Null Count  Dtype \n",
      "---  ------          --------------  ----- \n",
      " 0   subject_id      7064 non-null   int64 \n",
      " 1   study_id        7064 non-null   int64 \n",
      " 2   dicom_id        7064 non-null   object\n",
      " 3   DicomPath       7064 non-null   object\n",
      " 4   edema_severity  7064 non-null   int64 \n",
      " 5   normal          7064 non-null   int64 \n",
      " 6   CHF             7064 non-null   bool  \n",
      "dtypes: bool(1), int64(4), object(2)\n",
      "memory usage: 338.1+ KB\n"
     ]
    }
   ],
   "source": [
    "meta = pd.read_csv('./doby_meta.csv')\n",
    "meta.info()"
   ]
  },
  {
   "cell_type": "code",
   "execution_count": 24,
   "id": "342462ba-9031-4ee9-b03f-bd7f7392992e",
   "metadata": {
    "execution": {
     "iopub.execute_input": "2024-01-19T00:59:26.016733Z",
     "iopub.status.busy": "2024-01-19T00:59:26.015736Z",
     "iopub.status.idle": "2024-01-19T00:59:26.399709Z",
     "shell.execute_reply": "2024-01-19T00:59:26.398713Z",
     "shell.execute_reply.started": "2024-01-19T00:59:26.016733Z"
    }
   },
   "outputs": [
    {
     "data": {
      "image/png": "[encoded data removed]",
      "text/plain": [
       "<Figure size 640x480 with 1 Axes>"
      ]
     },
     "metadata": {},
     "output_type": "display_data"
    }
   ],
   "source": [
    "plt.hist(meta['normal'])\n",
    "plt.show()"
   ]
  },
  {
   "cell_type": "code",
   "execution_count": 29,
   "id": "b657afed-ca28-42e8-99e8-adcbc37bbfe2",
   "metadata": {
    "execution": {
     "iopub.execute_input": "2024-01-19T01:29:27.808084Z",
     "iopub.status.busy": "2024-01-19T01:29:27.807085Z",
     "iopub.status.idle": "2024-01-19T01:29:27.819051Z",
     "shell.execute_reply": "2024-01-19T01:29:27.817057Z",
     "shell.execute_reply.started": "2024-01-19T01:29:27.808084Z"
    }
   },
   "outputs": [
    {
     "name": "stdout",
     "output_type": "stream",
     "text": [
      "1.4519264144394308\n"
     ]
    }
   ],
   "source": [
    "print(((meta['normal'] == 1).sum() / (meta['normal'] == 0).sum()))"
   ]
  }
 ],
 "metadata": {
  "kernelspec": {
   "display_name": "Python 3 (ipykernel)",
   "language": "python",
   "name": "python3"
  },
  "language_info": {
   "codemirror_mode": {
    "name": "ipython",
    "version": 3
   },
   "file_extension": ".py",
   "mimetype": "text/x-python",
   "name": "python",
   "nbconvert_exporter": "python",
   "pygments_lexer": "ipython3",
   "version": "3.11.7"
  }
 },
 "nbformat": 4,
 "nbformat_minor": 5
}
