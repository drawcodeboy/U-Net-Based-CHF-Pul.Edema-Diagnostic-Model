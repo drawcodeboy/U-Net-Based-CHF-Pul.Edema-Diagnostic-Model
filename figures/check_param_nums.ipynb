{
 "cells": [
  {
   "cell_type": "code",
   "execution_count": 2,
   "id": "43d9cb6f-25d0-46ba-b39c-827649f6cd30",
   "metadata": {
    "execution": {
     "iopub.execute_input": "2024-03-12T14:11:44.644160Z",
     "iopub.status.busy": "2024-03-12T14:11:44.643192Z",
     "iopub.status.idle": "2024-03-12T14:11:50.297829Z",
     "shell.execute_reply": "2024-03-12T14:11:50.296832Z",
     "shell.execute_reply.started": "2024-03-12T14:11:44.644160Z"
    }
   },
   "outputs": [],
   "source": [
    "import torch\n",
    "from torch import nn\n",
    "from torchvision import transforms\n",
    "from torchvision import models\n",
    "import matplotlib.pyplot as plt\n",
    "from PIL import Image\n",
    "from PIL import ImageFilter\n",
    "from PIL import ImageOps\n",
    "from torch.utils.data import Dataset\n",
    "from torch.utils.data import DataLoader\n",
    "from torch.utils.data import random_split\n",
    "from torch.optim.lr_scheduler import ReduceLROnPlateau\n",
    "from copy import copy\n",
    "from copy import deepcopy\n",
    "import cv2\n",
    "import sys\n",
    "import os\n",
    "import pandas as pd\n",
    "import numpy as np\n",
    "import random\n",
    "from pathlib import Path\n",
    "\n",
    "os.environ['KMP_DUPLICATE_LIB_OK'] = 'True' # dead kernel for matplotlib"
   ]
  },
  {
   "cell_type": "code",
   "execution_count": 3,
   "id": "6bc3e31a-a1c4-4322-a289-e7b17f49e9bd",
   "metadata": {
    "execution": {
     "iopub.execute_input": "2024-03-12T14:11:50.300829Z",
     "iopub.status.busy": "2024-03-12T14:11:50.299831Z",
     "iopub.status.idle": "2024-03-12T14:11:50.313785Z",
     "shell.execute_reply": "2024-03-12T14:11:50.312794Z",
     "shell.execute_reply.started": "2024-03-12T14:11:50.300829Z"
    }
   },
   "outputs": [],
   "source": [
    "class customDenseNet(nn.Module):\n",
    "    def __init__(self):\n",
    "        super(customDenseNet, self).__init__()\n",
    "        self.model = models.densenet121(weights='IMAGENET1K_V1')\n",
    "        self.model.features.conv0 = nn.Conv2d(1, 64, kernel_size=7, stride=2, padding=3, bias=False)\n",
    "        self.linear = nn.Linear(1000, 1)\n",
    "        self.sigmoid = nn.Sigmoid()\n",
    "\n",
    "    def forward(self, x):\n",
    "        x = self.model(x)\n",
    "        x = self.linear(x)\n",
    "        x = self.sigmoid(x)\n",
    "\n",
    "        return x"
   ]
  },
  {
   "cell_type": "code",
   "execution_count": 4,
   "id": "ce5e2a79-bd08-4c54-a232-57cb1e411177",
   "metadata": {
    "execution": {
     "iopub.execute_input": "2024-03-12T14:11:50.315787Z",
     "iopub.status.busy": "2024-03-12T14:11:50.315787Z",
     "iopub.status.idle": "2024-03-12T14:11:50.330741Z",
     "shell.execute_reply": "2024-03-12T14:11:50.328745Z",
     "shell.execute_reply.started": "2024-03-12T14:11:50.315787Z"
    }
   },
   "outputs": [],
   "source": [
    "class CusVgg16(nn.Module):\n",
    "    def __init__(self):\n",
    "        super(CusVgg16, self).__init__()\n",
    "        self.vgg = models.vgg16(weights='IMAGENET1K_V1')\n",
    "        self.vgg.features[0] = nn.Conv2d(1, 64, kernel_size=3, stride=1, padding=1)\n",
    "        self.vgg.classifier[6] = nn.Linear(4096, 1)\n",
    "        self.sigmoid = nn.Sigmoid()\n",
    "\n",
    "    def forward(self, x):\n",
    "        x = self.vgg(x)\n",
    "        x = self.sigmoid(x)\n",
    "\n",
    "        return x"
   ]
  },
  {
   "cell_type": "code",
   "execution_count": 7,
   "id": "e252303f-78c4-4ad5-93d0-79fd25c3db09",
   "metadata": {
    "execution": {
     "iopub.execute_input": "2024-03-12T14:12:08.865446Z",
     "iopub.status.busy": "2024-03-12T14:12:08.863484Z",
     "iopub.status.idle": "2024-03-12T14:12:11.757713Z",
     "shell.execute_reply": "2024-03-12T14:12:11.756715Z",
     "shell.execute_reply.started": "2024-03-12T14:12:08.865446Z"
    }
   },
   "outputs": [],
   "source": [
    "model1 = customDenseNet()\n",
    "model2 = CusVgg16()"
   ]
  },
  {
   "cell_type": "code",
   "execution_count": 22,
   "id": "0d36c0fb-0d2d-46e0-8938-344caa3de296",
   "metadata": {
    "execution": {
     "iopub.execute_input": "2024-03-12T14:29:27.913668Z",
     "iopub.status.busy": "2024-03-12T14:29:27.912643Z",
     "iopub.status.idle": "2024-03-12T14:29:28.022350Z",
     "shell.execute_reply": "2024-03-12T14:29:28.019358Z",
     "shell.execute_reply.started": "2024-03-12T14:29:27.913668Z"
    }
   },
   "outputs": [
    {
     "data": {
      "text/plain": [
       "======================================================================\n",
       "Layer (type:depth-idx)                        Param #\n",
       "======================================================================\n",
       "customDenseNet                                --\n",
       "├─DenseNet: 1-1                               --\n",
       "│    └─Sequential: 2-1                        --\n",
       "│    │    └─Conv2d: 3-1                       3,136\n",
       "│    │    └─BatchNorm2d: 3-2                  128\n",
       "│    │    └─ReLU: 3-3                         --\n",
       "│    │    └─MaxPool2d: 3-4                    --\n",
       "│    │    └─_DenseBlock: 3-5                  335,040\n",
       "│    │    └─_Transition: 3-6                  33,280\n",
       "│    │    └─_DenseBlock: 3-7                  919,680\n",
       "│    │    └─_Transition: 3-8                  132,096\n",
       "│    │    └─_DenseBlock: 3-9                  2,837,760\n",
       "│    │    └─_Transition: 3-10                 526,336\n",
       "│    │    └─_DenseBlock: 3-11                 2,158,080\n",
       "│    │    └─BatchNorm2d: 3-12                 2,048\n",
       "│    └─Linear: 2-2                            1,025,000\n",
       "├─Linear: 1-2                                 1,001\n",
       "├─Sigmoid: 1-3                                --\n",
       "======================================================================\n",
       "Total params: 7,973,585\n",
       "Trainable params: 7,973,585\n",
       "Non-trainable params: 0\n",
       "======================================================================"
      ]
     },
     "execution_count": 22,
     "metadata": {},
     "output_type": "execute_result"
    }
   ],
   "source": [
    "from torchinfo import summary\n",
    "\n",
    "summary(model1)"
   ]
  },
  {
   "cell_type": "code",
   "execution_count": 23,
   "id": "ba6bb97b-da64-4000-bfb5-efea45de5ea7",
   "metadata": {
    "execution": {
     "iopub.execute_input": "2024-03-12T14:29:32.156339Z",
     "iopub.status.busy": "2024-03-12T14:29:32.156339Z",
     "iopub.status.idle": "2024-03-12T14:29:32.176280Z",
     "shell.execute_reply": "2024-03-12T14:29:32.174285Z",
     "shell.execute_reply.started": "2024-03-12T14:29:32.156339Z"
    }
   },
   "outputs": [
    {
     "data": {
      "text/plain": [
       "=================================================================\n",
       "Layer (type:depth-idx)                   Param #\n",
       "=================================================================\n",
       "CusVgg16                                 --\n",
       "├─VGG: 1-1                               --\n",
       "│    └─Sequential: 2-1                   --\n",
       "│    │    └─Conv2d: 3-1                  640\n",
       "│    │    └─ReLU: 3-2                    --\n",
       "│    │    └─Conv2d: 3-3                  36,928\n",
       "│    │    └─ReLU: 3-4                    --\n",
       "│    │    └─MaxPool2d: 3-5               --\n",
       "│    │    └─Conv2d: 3-6                  73,856\n",
       "│    │    └─ReLU: 3-7                    --\n",
       "│    │    └─Conv2d: 3-8                  147,584\n",
       "│    │    └─ReLU: 3-9                    --\n",
       "│    │    └─MaxPool2d: 3-10              --\n",
       "│    │    └─Conv2d: 3-11                 295,168\n",
       "│    │    └─ReLU: 3-12                   --\n",
       "│    │    └─Conv2d: 3-13                 590,080\n",
       "│    │    └─ReLU: 3-14                   --\n",
       "│    │    └─Conv2d: 3-15                 590,080\n",
       "│    │    └─ReLU: 3-16                   --\n",
       "│    │    └─MaxPool2d: 3-17              --\n",
       "│    │    └─Conv2d: 3-18                 1,180,160\n",
       "│    │    └─ReLU: 3-19                   --\n",
       "│    │    └─Conv2d: 3-20                 2,359,808\n",
       "│    │    └─ReLU: 3-21                   --\n",
       "│    │    └─Conv2d: 3-22                 2,359,808\n",
       "│    │    └─ReLU: 3-23                   --\n",
       "│    │    └─MaxPool2d: 3-24              --\n",
       "│    │    └─Conv2d: 3-25                 2,359,808\n",
       "│    │    └─ReLU: 3-26                   --\n",
       "│    │    └─Conv2d: 3-27                 2,359,808\n",
       "│    │    └─ReLU: 3-28                   --\n",
       "│    │    └─Conv2d: 3-29                 2,359,808\n",
       "│    │    └─ReLU: 3-30                   --\n",
       "│    │    └─MaxPool2d: 3-31              --\n",
       "│    └─AdaptiveAvgPool2d: 2-2            --\n",
       "│    └─Sequential: 2-3                   --\n",
       "│    │    └─Linear: 3-32                 102,764,544\n",
       "│    │    └─ReLU: 3-33                   --\n",
       "│    │    └─Dropout: 3-34                --\n",
       "│    │    └─Linear: 3-35                 16,781,312\n",
       "│    │    └─ReLU: 3-36                   --\n",
       "│    │    └─Dropout: 3-37                --\n",
       "│    │    └─Linear: 3-38                 4,097\n",
       "├─Sigmoid: 1-2                           --\n",
       "=================================================================\n",
       "Total params: 134,263,489\n",
       "Trainable params: 134,263,489\n",
       "Non-trainable params: 0\n",
       "================================================================="
      ]
     },
     "execution_count": 23,
     "metadata": {},
     "output_type": "execute_result"
    }
   ],
   "source": [
    "summary(model2)"
   ]
  }
 ],
 "metadata": {
  "kernelspec": {
   "display_name": "Python 3 (ipykernel)",
   "language": "python",
   "name": "python3"
  },
  "language_info": {
   "codemirror_mode": {
    "name": "ipython",
    "version": 3
   },
   "file_extension": ".py",
   "mimetype": "text/x-python",
   "name": "python",
   "nbconvert_exporter": "python",
   "pygments_lexer": "ipython3",
   "version": "3.10.9"
  }
 },
 "nbformat": 4,
 "nbformat_minor": 5
}
