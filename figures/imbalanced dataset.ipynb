{
 "cells": [
  {
   "cell_type": "code",
   "execution_count": 1,
   "id": "c88bed4f-6c4f-495f-9f6c-9f1d7a2ab4df",
   "metadata": {
    "execution": {
     "iopub.execute_input": "2024-02-01T10:08:52.468642Z",
     "iopub.status.busy": "2024-02-01T10:08:52.467644Z",
     "iopub.status.idle": "2024-02-01T10:08:57.289775Z",
     "shell.execute_reply": "2024-02-01T10:08:57.289775Z",
     "shell.execute_reply.started": "2024-02-01T10:08:52.468642Z"
    }
   },
   "outputs": [],
   "source": [
    "import torch\n",
    "from torch import nn\n",
    "from torchvision import transforms\n",
    "from torchvision import models\n",
    "import matplotlib.pyplot as plt\n",
    "from PIL import Image\n",
    "from PIL import ImageFilter\n",
    "from PIL import ImageOps\n",
    "from torch.utils.data import Dataset\n",
    "from torch.utils.data import DataLoader\n",
    "from torch.utils.data import random_split\n",
    "from torch.optim.lr_scheduler import ReduceLROnPlateau\n",
    "from copy import copy\n",
    "from copy import deepcopy\n",
    "import sys\n",
    "import os\n",
    "import cv2\n",
    "import pandas as pd\n",
    "import numpy as np\n",
    "import random\n",
    "from pathlib import Path\n",
    "\n",
    "os.environ['KMP_DUPLICATE_LIB_OK'] = 'True' # dead kernel for matplotlib"
   ]
  },
  {
   "cell_type": "code",
   "execution_count": 2,
   "id": "94daad96-7b7a-4cd9-aa97-8844dca32ae9",
   "metadata": {
    "execution": {
     "iopub.execute_input": "2024-02-01T10:08:59.257492Z",
     "iopub.status.busy": "2024-02-01T10:08:59.256495Z",
     "iopub.status.idle": "2024-02-01T10:08:59.326309Z",
     "shell.execute_reply": "2024-02-01T10:08:59.325311Z",
     "shell.execute_reply.started": "2024-02-01T10:08:59.257492Z"
    }
   },
   "outputs": [
    {
     "name": "stdout",
     "output_type": "stream",
     "text": [
      "<class 'pandas.core.frame.DataFrame'>\n",
      "Int64Index: 4198 entries, 0 to 4197\n",
      "Data columns (total 7 columns):\n",
      " #   Column          Non-Null Count  Dtype \n",
      "---  ------          --------------  ----- \n",
      " 0   subject_id      4198 non-null   int64 \n",
      " 1   study_id        4198 non-null   int64 \n",
      " 2   dicom_id        4198 non-null   object\n",
      " 3   DicomPath       4198 non-null   object\n",
      " 4   edema_severity  4198 non-null   int64 \n",
      " 5   normal          4198 non-null   int64 \n",
      " 6   CHF             4198 non-null   bool  \n",
      "dtypes: bool(1), int64(4), object(2)\n",
      "memory usage: 233.7+ KB\n"
     ]
    }
   ],
   "source": [
    "metadata = pd.read_csv('../doby_meta.csv')\n",
    "metadata = metadata[metadata['subject_id'] < 16000000]\n",
    "metadata.info()"
   ]
  },
  {
   "cell_type": "code",
   "execution_count": 72,
   "id": "6c904139-8a0e-4723-a065-e5b9fdf2a71b",
   "metadata": {
    "execution": {
     "iopub.execute_input": "2024-02-01T10:40:00.604545Z",
     "iopub.status.busy": "2024-02-01T10:40:00.604545Z",
     "iopub.status.idle": "2024-02-01T10:40:01.099239Z",
     "shell.execute_reply": "2024-02-01T10:40:01.098225Z",
     "shell.execute_reply.started": "2024-02-01T10:40:00.604545Z"
    }
   },
   "outputs": [
    {
     "data": {
      "image/png": "[encoded data removed]",
      "text/plain": [
       "<Figure size 640x480 with 1 Axes>"
      ]
     },
     "metadata": {},
     "output_type": "display_data"
    }
   ],
   "source": [
    "normal = metadata[metadata['normal'] == 0]\n",
    "pul_edema = metadata[metadata['normal'] == 1]\n",
    "plt.hist(normal['normal'], color='blue', label='Normal', bins=3)\n",
    "plt.hist(pul_edema['normal'], color='red', label='Abnormal', bins=3)\n",
    "\n",
    "plt.ylabel('count', fontsize=18)\n",
    "plt.xticks()\n",
    "ax = plt.gca()\n",
    "ax.axes.xaxis.set_visible(False)\n",
    "plt.legend(fontsize=11)\n",
    "plt.title('Normal   vs   Abnormal', fontsize=17)\n",
    "\n",
    "plt.savefig('./figure5.jpg', dpi=500, pad_inches=0)\n",
    "plt.show()"
   ]
  },
  {
   "cell_type": "code",
   "execution_count": 66,
   "id": "c5e35809-ce86-4384-a546-2d338924d790",
   "metadata": {
    "execution": {
     "iopub.execute_input": "2024-02-01T10:38:01.486004Z",
     "iopub.status.busy": "2024-02-01T10:38:01.484993Z",
     "iopub.status.idle": "2024-02-01T10:38:01.498972Z",
     "shell.execute_reply": "2024-02-01T10:38:01.497961Z",
     "shell.execute_reply.started": "2024-02-01T10:38:01.486004Z"
    }
   },
   "outputs": [
    {
     "name": "stdout",
     "output_type": "stream",
     "text": [
      "subject_id        1735\n",
      "study_id          1735\n",
      "dicom_id          1735\n",
      "DicomPath         1735\n",
      "edema_severity    1735\n",
      "normal            1735\n",
      "CHF               1735\n",
      "dtype: int64 subject_id        2463\n",
      "study_id          2463\n",
      "dicom_id          2463\n",
      "DicomPath         2463\n",
      "edema_severity    2463\n",
      "normal            2463\n",
      "CHF               2463\n",
      "dtype: int64\n"
     ]
    }
   ],
   "source": [
    "print(normal.count(), pul_edema.count())"
   ]
  }
 ],
 "metadata": {
  "kernelspec": {
   "display_name": "Python 3 (ipykernel)",
   "language": "python",
   "name": "python3"
  },
  "language_info": {
   "codemirror_mode": {
    "name": "ipython",
    "version": 3
   },
   "file_extension": ".py",
   "mimetype": "text/x-python",
   "name": "python",
   "nbconvert_exporter": "python",
   "pygments_lexer": "ipython3",
   "version": "3.10.9"
  }
 },
 "nbformat": 4,
 "nbformat_minor": 5
}
