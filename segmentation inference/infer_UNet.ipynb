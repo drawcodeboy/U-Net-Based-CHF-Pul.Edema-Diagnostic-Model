{
 "cells": [
  {
   "cell_type": "code",
   "execution_count": 1,
   "id": "66fbcc4f-a276-4e05-9bc5-f919b07e6b88",
   "metadata": {},
   "outputs": [],
   "source": [
    "import torch\n",
    "from torch import nn\n",
    "from torchvision import transforms\n",
    "from torchvision import models\n",
    "from torchvision.transforms.functional import to_pil_image\n",
    "import matplotlib.pyplot as plt\n",
    "from monai.losses import DiceLoss\n",
    "from PIL import Image\n",
    "from PIL import ImageFilter\n",
    "from PIL import ImageOps\n",
    "from torch.utils.data import Dataset\n",
    "from torch.utils.data import DataLoader\n",
    "from torch.utils.data import random_split\n",
    "from torch.optim.lr_scheduler import ReduceLROnPlateau\n",
    "from copy import copy\n",
    "from copy import deepcopy\n",
    "import cv2\n",
    "import sys\n",
    "import os\n",
    "import pandas as pd\n",
    "import numpy as np\n",
    "import random\n",
    "from pathlib import Path\n",
    "import math\n",
    "# from evaluation import *\n",
    "\n",
    "os.environ['KMP_DUPLICATE_LIB_OK'] = 'True' # dead kernel for matplotlib"
   ]
  },
  {
   "cell_type": "code",
   "execution_count": 2,
   "id": "68436f9b-7ae2-431a-b2d1-8a97f2f5cf87",
   "metadata": {},
   "outputs": [
    {
     "name": "stdout",
     "output_type": "stream",
     "text": [
      "['D:\\\\Doby\\\\OMS\\\\segmentation inference', 'C:\\\\Users\\\\GAONNURI\\\\anaconda3\\\\envs\\\\doby\\\\python311.zip', 'C:\\\\Users\\\\GAONNURI\\\\anaconda3\\\\envs\\\\doby\\\\DLLs', 'C:\\\\Users\\\\GAONNURI\\\\anaconda3\\\\envs\\\\doby\\\\Lib', 'C:\\\\Users\\\\GAONNURI\\\\anaconda3\\\\envs\\\\doby', '', 'C:\\\\Users\\\\GAONNURI\\\\AppData\\\\Roaming\\\\Python\\\\Python311\\\\site-packages', 'C:\\\\Users\\\\GAONNURI\\\\anaconda3\\\\envs\\\\doby\\\\Lib\\\\site-packages', 'C:\\\\Users\\\\GAONNURI\\\\anaconda3\\\\envs\\\\doby\\\\Lib\\\\site-packages\\\\win32', 'C:\\\\Users\\\\GAONNURI\\\\anaconda3\\\\envs\\\\doby\\\\Lib\\\\site-packages\\\\win32\\\\lib', 'C:\\\\Users\\\\GAONNURI\\\\anaconda3\\\\envs\\\\doby\\\\Lib\\\\site-packages\\\\Pythonwin']\n"
     ]
    }
   ],
   "source": [
    "print(sys.path)"
   ]
  },
  {
   "cell_type": "code",
   "execution_count": 3,
   "id": "fdad4cf0-2fe3-4712-9c3c-070d4b5f3678",
   "metadata": {},
   "outputs": [],
   "source": [
    "sys.path.append('../segmentation')"
   ]
  },
  {
   "cell_type": "code",
   "execution_count": 4,
   "id": "38380d18-1db7-42ec-b783-b3986d4163b7",
   "metadata": {},
   "outputs": [
    {
     "name": "stdout",
     "output_type": "stream",
     "text": [
      "['D:\\\\Doby\\\\OMS\\\\segmentation inference', 'C:\\\\Users\\\\GAONNURI\\\\anaconda3\\\\envs\\\\doby\\\\python311.zip', 'C:\\\\Users\\\\GAONNURI\\\\anaconda3\\\\envs\\\\doby\\\\DLLs', 'C:\\\\Users\\\\GAONNURI\\\\anaconda3\\\\envs\\\\doby\\\\Lib', 'C:\\\\Users\\\\GAONNURI\\\\anaconda3\\\\envs\\\\doby', '', 'C:\\\\Users\\\\GAONNURI\\\\AppData\\\\Roaming\\\\Python\\\\Python311\\\\site-packages', 'C:\\\\Users\\\\GAONNURI\\\\anaconda3\\\\envs\\\\doby\\\\Lib\\\\site-packages', 'C:\\\\Users\\\\GAONNURI\\\\anaconda3\\\\envs\\\\doby\\\\Lib\\\\site-packages\\\\win32', 'C:\\\\Users\\\\GAONNURI\\\\anaconda3\\\\envs\\\\doby\\\\Lib\\\\site-packages\\\\win32\\\\lib', 'C:\\\\Users\\\\GAONNURI\\\\anaconda3\\\\envs\\\\doby\\\\Lib\\\\site-packages\\\\Pythonwin', '../segmentation']\n"
     ]
    }
   ],
   "source": [
    "print(sys.path)"
   ]
  },
  {
   "cell_type": "code",
   "execution_count": 5,
   "id": "66c6ca6d-ff59-447c-a258-ac212d59e632",
   "metadata": {},
   "outputs": [],
   "source": [
    "from UNet import UNet"
   ]
  },
  {
   "cell_type": "code",
   "execution_count": 6,
   "id": "24a0be56-3dcb-41c4-bde0-9034d7b3c235",
   "metadata": {},
   "outputs": [
    {
     "name": "stdout",
     "output_type": "stream",
     "text": [
      "cuda\n"
     ]
    }
   ],
   "source": [
    "device = 'cuda' if torch.cuda.is_available() else 'cpu'\n",
    "print(device)"
   ]
  },
  {
   "cell_type": "code",
   "execution_count": 7,
   "id": "505aec95-ce59-491c-b69e-ff1dd43a9fe9",
   "metadata": {},
   "outputs": [
    {
     "name": "stdout",
     "output_type": "stream",
     "text": [
      "<class 'pandas.core.frame.DataFrame'>\n",
      "RangeIndex: 7064 entries, 0 to 7063\n",
      "Data columns (total 7 columns):\n",
      " #   Column          Non-Null Count  Dtype \n",
      "---  ------          --------------  ----- \n",
      " 0   subject_id      7064 non-null   int64 \n",
      " 1   study_id        7064 non-null   int64 \n",
      " 2   dicom_id        7064 non-null   object\n",
      " 3   DicomPath       7064 non-null   object\n",
      " 4   edema_severity  7064 non-null   int64 \n",
      " 5   normal          7064 non-null   int64 \n",
      " 6   CHF             7064 non-null   bool  \n",
      "dtypes: bool(1), int64(4), object(2)\n",
      "memory usage: 338.2+ KB\n"
     ]
    }
   ],
   "source": [
    "metadata = pd.read_csv('../doby_meta.csv')\n",
    "metadata.info()"
   ]
  },
  {
   "cell_type": "code",
   "execution_count": 8,
   "id": "2f134859-dfa7-4aba-977c-391168e6afc4",
   "metadata": {},
   "outputs": [
    {
     "name": "stdout",
     "output_type": "stream",
     "text": [
      "<class 'pandas.core.frame.DataFrame'>\n",
      "Index: 4198 entries, 0 to 4197\n",
      "Data columns (total 7 columns):\n",
      " #   Column          Non-Null Count  Dtype \n",
      "---  ------          --------------  ----- \n",
      " 0   subject_id      4198 non-null   int64 \n",
      " 1   study_id        4198 non-null   int64 \n",
      " 2   dicom_id        4198 non-null   object\n",
      " 3   DicomPath       4198 non-null   object\n",
      " 4   edema_severity  4198 non-null   int64 \n",
      " 5   normal          4198 non-null   int64 \n",
      " 6   CHF             4198 non-null   bool  \n",
      "dtypes: bool(1), int64(4), object(2)\n",
      "memory usage: 233.7+ KB\n"
     ]
    }
   ],
   "source": [
    "metadata = metadata[metadata['subject_id'] < 16000000]\n",
    "metadata.info()"
   ]
  },
  {
   "cell_type": "code",
   "execution_count": 9,
   "id": "5f45ae77-ff2b-40ba-a4cc-db5f69aa6739",
   "metadata": {},
   "outputs": [],
   "source": [
    "SEG_BASE_PATH = '../chest-x-ray-dataset-with-lung-segmentation-1.0.0/chest-x-ray-dataset-with-lung-segmentation-1.0.0'\n",
    "ORIG_BASE_PATH = '../physionet.org/files/mimic-cxr-jpg/2.0.0'"
   ]
  },
  {
   "cell_type": "code",
   "execution_count": 10,
   "id": "a4ea3efc-704f-48be-bf1b-8c447bbb8ac0",
   "metadata": {},
   "outputs": [],
   "source": [
    "TRAIN_TRANSFORMS = transforms.Compose([\n",
    "    transforms.ToTensor()\n",
    "])\n",
    "\n",
    "TARGET_TRANSFORMS = transforms.Compose([\n",
    "    transforms.ToTensor()\n",
    "])"
   ]
  },
  {
   "cell_type": "code",
   "execution_count": 11,
   "id": "a16c3b27-8035-4919-bf2f-2d2e7e851bcf",
   "metadata": {},
   "outputs": [],
   "source": [
    "class Dataset(Dataset):\n",
    "    def __init__(self, metadata, mask_base_path, orig_base_path, transform=None, target_transform=None):\n",
    "        self.metadata = metadata\n",
    "        self.base_path = Path(orig_base_path)\n",
    "        self.mask_path = Path(mask_base_path)\n",
    "        \n",
    "        self.transform = transform\n",
    "        self.target_transform = target_transform\n",
    "        \n",
    "    def __getitem__(self, idx):\n",
    "        detail_path = self.metadata.loc[idx, 'DicomPath']\n",
    "        y_path = self.mask_path / Path(str(detail_path[:-4]) + '-mask.jpg')\n",
    "        x_path = self.base_path / Path(str(detail_path))\n",
    "\n",
    "        y = Image.open(str(y_path))\n",
    "        x = cv2.imread(str(x_path), cv2.IMREAD_GRAYSCALE)\n",
    "        x = cv2.resize(x, dsize=(224, 224), interpolation=cv2.INTER_AREA)\n",
    "\n",
    "        del detail_path\n",
    "        del y_path\n",
    "        del x_path\n",
    "\n",
    "        # 이것 때문인지는 모르겠는데 ToTensor로 Normalize가 안 된다.\n",
    "        # y = np.where(y > 128, 255, 0) # 128 threshold\n",
    "        # y = np.where(y > 128, 255, 0) / 255.\n",
    "        \n",
    "        if self.transform:\n",
    "            x = self.transform(x)\n",
    "\n",
    "        if self.target_transform:\n",
    "            y = self.target_transform(y)\n",
    "\n",
    "        return x, y\n",
    "\n",
    "    def __len__(self):\n",
    "        return self.metadata['normal'].count()"
   ]
  },
  {
   "cell_type": "code",
   "execution_count": 12,
   "id": "9ae122c0-bae7-43e5-9850-8efe1204c568",
   "metadata": {},
   "outputs": [],
   "source": [
    "ds = Dataset(metadata, \n",
    "             SEG_BASE_PATH, \n",
    "             ORIG_BASE_PATH,\n",
    "             transform=TRAIN_TRANSFORMS,\n",
    "             target_transform=TARGET_TRANSFORMS)"
   ]
  },
  {
   "cell_type": "code",
   "execution_count": 13,
   "id": "8bb49028-ad0a-4b5b-8fbb-d552efd17f56",
   "metadata": {},
   "outputs": [],
   "source": [
    "ds_size = len(ds)\n",
    "train_size = int(ds_size * 0.8)\n",
    "test_size = ds_size - train_size\n",
    "train_ds, test_ds = random_split(ds, [train_size, test_size], generator=torch.manual_seed(42))"
   ]
  },
  {
   "cell_type": "code",
   "execution_count": 14,
   "id": "a943fdc7-30f4-4a44-bccc-7076414ea17e",
   "metadata": {},
   "outputs": [],
   "source": [
    "test_dl = DataLoader(test_ds, batch_size=8, shuffle=True)"
   ]
  },
  {
   "cell_type": "code",
   "execution_count": 15,
   "id": "98366af5-a829-4bec-803c-219c7d60551c",
   "metadata": {
    "scrolled": true
   },
   "outputs": [
    {
     "data": {
      "text/plain": [
       "UNet(\n",
       "  (e1): EncoderBlock(\n",
       "    (convBlk): ConvBlock(\n",
       "      (conv1): Conv2d(1, 64, kernel_size=(3, 3), stride=(1, 1), padding=(1, 1))\n",
       "      (conv2): Conv2d(64, 64, kernel_size=(3, 3), stride=(1, 1), padding=(1, 1))\n",
       "      (bn1): BatchNorm2d(64, eps=1e-05, momentum=0.1, affine=True, track_running_stats=True)\n",
       "      (bn2): BatchNorm2d(64, eps=1e-05, momentum=0.1, affine=True, track_running_stats=True)\n",
       "      (relu): ReLU()\n",
       "    )\n",
       "    (pool): MaxPool2d(kernel_size=2, stride=2, padding=0, dilation=1, ceil_mode=False)\n",
       "  )\n",
       "  (e2): EncoderBlock(\n",
       "    (convBlk): ConvBlock(\n",
       "      (conv1): Conv2d(64, 128, kernel_size=(3, 3), stride=(1, 1), padding=(1, 1))\n",
       "      (conv2): Conv2d(128, 128, kernel_size=(3, 3), stride=(1, 1), padding=(1, 1))\n",
       "      (bn1): BatchNorm2d(128, eps=1e-05, momentum=0.1, affine=True, track_running_stats=True)\n",
       "      (bn2): BatchNorm2d(128, eps=1e-05, momentum=0.1, affine=True, track_running_stats=True)\n",
       "      (relu): ReLU()\n",
       "    )\n",
       "    (pool): MaxPool2d(kernel_size=2, stride=2, padding=0, dilation=1, ceil_mode=False)\n",
       "  )\n",
       "  (e3): EncoderBlock(\n",
       "    (convBlk): ConvBlock(\n",
       "      (conv1): Conv2d(128, 256, kernel_size=(3, 3), stride=(1, 1), padding=(1, 1))\n",
       "      (conv2): Conv2d(256, 256, kernel_size=(3, 3), stride=(1, 1), padding=(1, 1))\n",
       "      (bn1): BatchNorm2d(256, eps=1e-05, momentum=0.1, affine=True, track_running_stats=True)\n",
       "      (bn2): BatchNorm2d(256, eps=1e-05, momentum=0.1, affine=True, track_running_stats=True)\n",
       "      (relu): ReLU()\n",
       "    )\n",
       "    (pool): MaxPool2d(kernel_size=2, stride=2, padding=0, dilation=1, ceil_mode=False)\n",
       "  )\n",
       "  (e4): EncoderBlock(\n",
       "    (convBlk): ConvBlock(\n",
       "      (conv1): Conv2d(256, 512, kernel_size=(3, 3), stride=(1, 1), padding=(1, 1))\n",
       "      (conv2): Conv2d(512, 512, kernel_size=(3, 3), stride=(1, 1), padding=(1, 1))\n",
       "      (bn1): BatchNorm2d(512, eps=1e-05, momentum=0.1, affine=True, track_running_stats=True)\n",
       "      (bn2): BatchNorm2d(512, eps=1e-05, momentum=0.1, affine=True, track_running_stats=True)\n",
       "      (relu): ReLU()\n",
       "    )\n",
       "    (pool): MaxPool2d(kernel_size=2, stride=2, padding=0, dilation=1, ceil_mode=False)\n",
       "  )\n",
       "  (b): ConvBlock(\n",
       "    (conv1): Conv2d(512, 1024, kernel_size=(3, 3), stride=(1, 1), padding=(1, 1))\n",
       "    (conv2): Conv2d(1024, 1024, kernel_size=(3, 3), stride=(1, 1), padding=(1, 1))\n",
       "    (bn1): BatchNorm2d(1024, eps=1e-05, momentum=0.1, affine=True, track_running_stats=True)\n",
       "    (bn2): BatchNorm2d(1024, eps=1e-05, momentum=0.1, affine=True, track_running_stats=True)\n",
       "    (relu): ReLU()\n",
       "  )\n",
       "  (d1): DecoderBlock(\n",
       "    (transposeConv): ConvTranspose2d(1024, 512, kernel_size=(2, 2), stride=(2, 2))\n",
       "    (convBlk): ConvBlock(\n",
       "      (conv1): Conv2d(1024, 512, kernel_size=(3, 3), stride=(1, 1), padding=(1, 1))\n",
       "      (conv2): Conv2d(512, 512, kernel_size=(3, 3), stride=(1, 1), padding=(1, 1))\n",
       "      (bn1): BatchNorm2d(512, eps=1e-05, momentum=0.1, affine=True, track_running_stats=True)\n",
       "      (bn2): BatchNorm2d(512, eps=1e-05, momentum=0.1, affine=True, track_running_stats=True)\n",
       "      (relu): ReLU()\n",
       "    )\n",
       "  )\n",
       "  (d2): DecoderBlock(\n",
       "    (transposeConv): ConvTranspose2d(512, 256, kernel_size=(2, 2), stride=(2, 2))\n",
       "    (convBlk): ConvBlock(\n",
       "      (conv1): Conv2d(512, 256, kernel_size=(3, 3), stride=(1, 1), padding=(1, 1))\n",
       "      (conv2): Conv2d(256, 256, kernel_size=(3, 3), stride=(1, 1), padding=(1, 1))\n",
       "      (bn1): BatchNorm2d(256, eps=1e-05, momentum=0.1, affine=True, track_running_stats=True)\n",
       "      (bn2): BatchNorm2d(256, eps=1e-05, momentum=0.1, affine=True, track_running_stats=True)\n",
       "      (relu): ReLU()\n",
       "    )\n",
       "  )\n",
       "  (d3): DecoderBlock(\n",
       "    (transposeConv): ConvTranspose2d(256, 128, kernel_size=(2, 2), stride=(2, 2))\n",
       "    (convBlk): ConvBlock(\n",
       "      (conv1): Conv2d(256, 128, kernel_size=(3, 3), stride=(1, 1), padding=(1, 1))\n",
       "      (conv2): Conv2d(128, 128, kernel_size=(3, 3), stride=(1, 1), padding=(1, 1))\n",
       "      (bn1): BatchNorm2d(128, eps=1e-05, momentum=0.1, affine=True, track_running_stats=True)\n",
       "      (bn2): BatchNorm2d(128, eps=1e-05, momentum=0.1, affine=True, track_running_stats=True)\n",
       "      (relu): ReLU()\n",
       "    )\n",
       "  )\n",
       "  (d4): DecoderBlock(\n",
       "    (transposeConv): ConvTranspose2d(128, 64, kernel_size=(2, 2), stride=(2, 2))\n",
       "    (convBlk): ConvBlock(\n",
       "      (conv1): Conv2d(128, 64, kernel_size=(3, 3), stride=(1, 1), padding=(1, 1))\n",
       "      (conv2): Conv2d(64, 64, kernel_size=(3, 3), stride=(1, 1), padding=(1, 1))\n",
       "      (bn1): BatchNorm2d(64, eps=1e-05, momentum=0.1, affine=True, track_running_stats=True)\n",
       "      (bn2): BatchNorm2d(64, eps=1e-05, momentum=0.1, affine=True, track_running_stats=True)\n",
       "      (relu): ReLU()\n",
       "    )\n",
       "  )\n",
       "  (convOut): Conv2d(64, 1, kernel_size=(1, 1), stride=(1, 1))\n",
       "  (sigmoid): Sigmoid()\n",
       ")"
      ]
     },
     "execution_count": 15,
     "metadata": {},
     "output_type": "execute_result"
    }
   ],
   "source": [
    "model = UNet(channel=1) # feature size 10%\n",
    "model.load_state_dict(torch.load('../segmentation/parameters/unet_best_acc_model_state.pt'))\n",
    "model.to(device)"
   ]
  },
  {
   "cell_type": "code",
   "execution_count": 16,
   "id": "7a96d7d4-ca21-4a26-9a0e-f66c2b9649b6",
   "metadata": {},
   "outputs": [
    {
     "data": {
      "text/plain": [
       "UNet(\n",
       "  (e1): EncoderBlock(\n",
       "    (convBlk): ConvBlock(\n",
       "      (conv1): Conv2d(1, 64, kernel_size=(3, 3), stride=(1, 1), padding=(1, 1))\n",
       "      (conv2): Conv2d(64, 64, kernel_size=(3, 3), stride=(1, 1), padding=(1, 1))\n",
       "      (bn1): BatchNorm2d(64, eps=1e-05, momentum=0.1, affine=True, track_running_stats=True)\n",
       "      (bn2): BatchNorm2d(64, eps=1e-05, momentum=0.1, affine=True, track_running_stats=True)\n",
       "      (relu): ReLU()\n",
       "    )\n",
       "    (pool): MaxPool2d(kernel_size=2, stride=2, padding=0, dilation=1, ceil_mode=False)\n",
       "  )\n",
       "  (e2): EncoderBlock(\n",
       "    (convBlk): ConvBlock(\n",
       "      (conv1): Conv2d(64, 128, kernel_size=(3, 3), stride=(1, 1), padding=(1, 1))\n",
       "      (conv2): Conv2d(128, 128, kernel_size=(3, 3), stride=(1, 1), padding=(1, 1))\n",
       "      (bn1): BatchNorm2d(128, eps=1e-05, momentum=0.1, affine=True, track_running_stats=True)\n",
       "      (bn2): BatchNorm2d(128, eps=1e-05, momentum=0.1, affine=True, track_running_stats=True)\n",
       "      (relu): ReLU()\n",
       "    )\n",
       "    (pool): MaxPool2d(kernel_size=2, stride=2, padding=0, dilation=1, ceil_mode=False)\n",
       "  )\n",
       "  (e3): EncoderBlock(\n",
       "    (convBlk): ConvBlock(\n",
       "      (conv1): Conv2d(128, 256, kernel_size=(3, 3), stride=(1, 1), padding=(1, 1))\n",
       "      (conv2): Conv2d(256, 256, kernel_size=(3, 3), stride=(1, 1), padding=(1, 1))\n",
       "      (bn1): BatchNorm2d(256, eps=1e-05, momentum=0.1, affine=True, track_running_stats=True)\n",
       "      (bn2): BatchNorm2d(256, eps=1e-05, momentum=0.1, affine=True, track_running_stats=True)\n",
       "      (relu): ReLU()\n",
       "    )\n",
       "    (pool): MaxPool2d(kernel_size=2, stride=2, padding=0, dilation=1, ceil_mode=False)\n",
       "  )\n",
       "  (e4): EncoderBlock(\n",
       "    (convBlk): ConvBlock(\n",
       "      (conv1): Conv2d(256, 512, kernel_size=(3, 3), stride=(1, 1), padding=(1, 1))\n",
       "      (conv2): Conv2d(512, 512, kernel_size=(3, 3), stride=(1, 1), padding=(1, 1))\n",
       "      (bn1): BatchNorm2d(512, eps=1e-05, momentum=0.1, affine=True, track_running_stats=True)\n",
       "      (bn2): BatchNorm2d(512, eps=1e-05, momentum=0.1, affine=True, track_running_stats=True)\n",
       "      (relu): ReLU()\n",
       "    )\n",
       "    (pool): MaxPool2d(kernel_size=2, stride=2, padding=0, dilation=1, ceil_mode=False)\n",
       "  )\n",
       "  (b): ConvBlock(\n",
       "    (conv1): Conv2d(512, 1024, kernel_size=(3, 3), stride=(1, 1), padding=(1, 1))\n",
       "    (conv2): Conv2d(1024, 1024, kernel_size=(3, 3), stride=(1, 1), padding=(1, 1))\n",
       "    (bn1): BatchNorm2d(1024, eps=1e-05, momentum=0.1, affine=True, track_running_stats=True)\n",
       "    (bn2): BatchNorm2d(1024, eps=1e-05, momentum=0.1, affine=True, track_running_stats=True)\n",
       "    (relu): ReLU()\n",
       "  )\n",
       "  (d1): DecoderBlock(\n",
       "    (transposeConv): ConvTranspose2d(1024, 512, kernel_size=(2, 2), stride=(2, 2))\n",
       "    (convBlk): ConvBlock(\n",
       "      (conv1): Conv2d(1024, 512, kernel_size=(3, 3), stride=(1, 1), padding=(1, 1))\n",
       "      (conv2): Conv2d(512, 512, kernel_size=(3, 3), stride=(1, 1), padding=(1, 1))\n",
       "      (bn1): BatchNorm2d(512, eps=1e-05, momentum=0.1, affine=True, track_running_stats=True)\n",
       "      (bn2): BatchNorm2d(512, eps=1e-05, momentum=0.1, affine=True, track_running_stats=True)\n",
       "      (relu): ReLU()\n",
       "    )\n",
       "  )\n",
       "  (d2): DecoderBlock(\n",
       "    (transposeConv): ConvTranspose2d(512, 256, kernel_size=(2, 2), stride=(2, 2))\n",
       "    (convBlk): ConvBlock(\n",
       "      (conv1): Conv2d(512, 256, kernel_size=(3, 3), stride=(1, 1), padding=(1, 1))\n",
       "      (conv2): Conv2d(256, 256, kernel_size=(3, 3), stride=(1, 1), padding=(1, 1))\n",
       "      (bn1): BatchNorm2d(256, eps=1e-05, momentum=0.1, affine=True, track_running_stats=True)\n",
       "      (bn2): BatchNorm2d(256, eps=1e-05, momentum=0.1, affine=True, track_running_stats=True)\n",
       "      (relu): ReLU()\n",
       "    )\n",
       "  )\n",
       "  (d3): DecoderBlock(\n",
       "    (transposeConv): ConvTranspose2d(256, 128, kernel_size=(2, 2), stride=(2, 2))\n",
       "    (convBlk): ConvBlock(\n",
       "      (conv1): Conv2d(256, 128, kernel_size=(3, 3), stride=(1, 1), padding=(1, 1))\n",
       "      (conv2): Conv2d(128, 128, kernel_size=(3, 3), stride=(1, 1), padding=(1, 1))\n",
       "      (bn1): BatchNorm2d(128, eps=1e-05, momentum=0.1, affine=True, track_running_stats=True)\n",
       "      (bn2): BatchNorm2d(128, eps=1e-05, momentum=0.1, affine=True, track_running_stats=True)\n",
       "      (relu): ReLU()\n",
       "    )\n",
       "  )\n",
       "  (d4): DecoderBlock(\n",
       "    (transposeConv): ConvTranspose2d(128, 64, kernel_size=(2, 2), stride=(2, 2))\n",
       "    (convBlk): ConvBlock(\n",
       "      (conv1): Conv2d(128, 64, kernel_size=(3, 3), stride=(1, 1), padding=(1, 1))\n",
       "      (conv2): Conv2d(64, 64, kernel_size=(3, 3), stride=(1, 1), padding=(1, 1))\n",
       "      (bn1): BatchNorm2d(64, eps=1e-05, momentum=0.1, affine=True, track_running_stats=True)\n",
       "      (bn2): BatchNorm2d(64, eps=1e-05, momentum=0.1, affine=True, track_running_stats=True)\n",
       "      (relu): ReLU()\n",
       "    )\n",
       "  )\n",
       "  (convOut): Conv2d(64, 1, kernel_size=(1, 1), stride=(1, 1))\n",
       "  (sigmoid): Sigmoid()\n",
       ")"
      ]
     },
     "execution_count": 16,
     "metadata": {},
     "output_type": "execute_result"
    }
   ],
   "source": [
    "model2 = UNet(channel=1)\n",
    "model2.load_state_dict(torch.load('../segmentation/parameters/unet_best_f1_model_state.pt'))\n",
    "model2.to(device)"
   ]
  },
  {
   "cell_type": "code",
   "execution_count": 17,
   "id": "62dde07c-32f9-402d-9ac2-261c769ebc43",
   "metadata": {},
   "outputs": [],
   "source": [
    "loss_fn = DiceLoss(reduction='mean').to(device)"
   ]
  },
  {
   "cell_type": "code",
   "execution_count": 18,
   "id": "1b5600e6-9000-4e3c-9efc-b3943f635c27",
   "metadata": {},
   "outputs": [],
   "source": [
    "def test(model, data_loader):\n",
    "    model.eval()\n",
    "    test_acc = 0\n",
    "    test_loss = 0\n",
    "    n_data = 0\n",
    "    TP, FP, TN, FN = 0, 0, 0, 0\n",
    "    output_pixels = 0\n",
    "    pre = []\n",
    "    tar = []\n",
    "    \n",
    "    with torch.no_grad():\n",
    "        for batch, target in data_loader:\n",
    "            batch, target = batch.to(device), target.to(device)\n",
    "\n",
    "            output = model(batch)\n",
    "\n",
    "            output_flat = output.view(output.size(0), -1)\n",
    "            target_flat = target.view(target.size(0), -1)\n",
    "            temp_pre = output.cpu().detach().numpy()\n",
    "            pre.append(temp_pre)\n",
    "            temp_tar = target.cpu().detach().numpy()\n",
    "            tar.append(temp_tar)\n",
    "\n",
    "            loss = loss_fn(output_flat, target_flat)\n",
    "            test_loss += loss.item()\n",
    "\n",
    "            output_flat = (output_flat >= torch.FloatTensor([0.5]).to(device)).type(torch.float32)\n",
    "\n",
    "            correct = (output_flat == target_flat).sum().item()\n",
    "            test_acc += correct\n",
    "\n",
    "            TP += ((output_flat == target_flat) & (target_flat == 1)).sum().item()\n",
    "            FP += ((output_flat != target_flat) & (target_flat == 0)).sum().item()\n",
    "            TN += ((output_flat == target_flat) & (target_flat == 0)).sum().item()\n",
    "            FN += ((output_flat != target_flat) & (target_flat == 1)).sum().item()\n",
    "            \n",
    "            n_data += len(batch)\n",
    "            output_pixels = (output_flat.shape[1])\n",
    "            \n",
    "            print(f'\\rTest set: [{100*n_data/len(data_loader.dataset):.2f}%]', end='')\n",
    "    \n",
    "    test_acc = 100 * test_acc / (len(data_loader.dataset)*output_pixels)\n",
    "    test_loss = test_loss / len(data_loader)\n",
    "    \n",
    "    print(f'\\rTest set: Accuracy: {test_acc:.2f}%  Loss: {test_loss:.4f}')\n",
    "\n",
    "    return test_acc, test_loss, TP, FP, TN, FN, pre, tar"
   ]
  },
  {
   "cell_type": "code",
   "execution_count": 19,
   "id": "b2c2094b-6814-4aa5-b0f8-e262ea3dfa5b",
   "metadata": {},
   "outputs": [],
   "source": [
    "def getMetric(TP, FP, TN, FN):\n",
    "    # base case: divide by zero\n",
    "    TP = 0.1 if TP == 0 else TP\n",
    "    FP = 0.1 if FP == 0 else FP\n",
    "    TN = 0.1 if TN == 0 else TN\n",
    "    FN = 0.1 if FN == 0 else FN\n",
    "    \n",
    "    sensitivity = TP/(TP+FN)\n",
    "    specificity = TN/(TN+FP)\n",
    "    precision = TP/(TP+FP)\n",
    "    recall = TP/(TP+FN)\n",
    "    f1_score = 2*precision*recall/(precision+recall)\n",
    "    mcc = ((TP*TN)-(FP*FN))/math.sqrt((TP+FP)*(TP+FN)*(TN+FP)*(TN+FN))\n",
    "    \n",
    "    return sensitivity, specificity, f1_score, mcc"
   ]
  },
  {
   "cell_type": "code",
   "execution_count": 20,
   "id": "ea98408d-b0b3-4eb7-b436-4d4071647f32",
   "metadata": {},
   "outputs": [
    {
     "name": "stdout",
     "output_type": "stream",
     "text": [
      "Test set: Accuracy: 94.67%  Loss: 0.0246\n",
      "TP: 11547158, FP: 187411, TN: 28355795, FN: 264381\n",
      "Sensitivity: 0.9776, Specificity: 0.9934\n",
      "F1-Score: 0.9808, MCC: 0.9729\n"
     ]
    }
   ],
   "source": [
    "acc, loss, tp, fp, tn, fn, pre, tar = test(model, test_dl)\n",
    "sensitivity, specificity, f1_score, mcc = getMetric(tp, fp, tn, fn)\n",
    "print(f'TP: {tp}, FP: {fp}, TN: {tn}, FN: {fn}')\n",
    "print(f'Sensitivity: {sensitivity:.4f}, Specificity: {specificity:.4f}\\nF1-Score: {f1_score:.4f}, MCC: {mcc:.4f}')"
   ]
  },
  {
   "cell_type": "code",
   "execution_count": 21,
   "id": "a0c6573a-b08c-4232-aef8-94b282af92ed",
   "metadata": {},
   "outputs": [
    {
     "name": "stdout",
     "output_type": "stream",
     "text": [
      "AUC: 0.9749\n"
     ]
    },
    {
     "data": {
      "image/png": "[encoded data removed]",
      "text/plain": [
       "<Figure size 640x480 with 1 Axes>"
      ]
     },
     "metadata": {},
     "output_type": "display_data"
    }
   ],
   "source": [
    "from sklearn.metrics import roc_curve\n",
    "from sklearn.metrics import roc_auc_score\n",
    "\n",
    "pre = np.array(pre).flatten()\n",
    "tar = np.array(tar, dtype=np.uint8).flatten()\n",
    "fpr, tpr, thresholds = roc_curve(tar, pre)\n",
    "\n",
    "plt.plot(fpr, tpr)\n",
    "plt.plot([0, 1], [0, 1])\n",
    "print(f'AUC: {roc_auc_score(tar, pre):.4f}')"
   ]
  },
  {
   "cell_type": "code",
   "execution_count": 22,
   "id": "744a2cf8-1910-4270-9595-2eefdf577743",
   "metadata": {},
   "outputs": [],
   "source": [
    "np.save('./target_and_predict/unet_acc_tar', tar)\n",
    "np.save('./target_and_predict/unet_acc_pre', pre)"
   ]
  },
  {
   "cell_type": "code",
   "execution_count": 23,
   "id": "874eb413-1160-4fdd-83c9-acf8b441528a",
   "metadata": {},
   "outputs": [
    {
     "name": "stdout",
     "output_type": "stream",
     "text": [
      "Test set: Accuracy: 94.67%  Loss: 0.0245\n",
      "TP: 11547158, FP: 187411, TN: 28355795, FN: 264381\n",
      "Sensitivity: 0.9776, Specificity: 0.9934\n",
      "F1-Score: 0.9808, MCC: 0.9729\n"
     ]
    }
   ],
   "source": [
    "acc, loss, tp, fp, tn, fn, pre, tar = test(model, test_dl)\n",
    "sensitivity, specificity, f1_score, mcc = getMetric(tp, fp, tn, fn)\n",
    "print(f'TP: {tp}, FP: {fp}, TN: {tn}, FN: {fn}')\n",
    "print(f'Sensitivity: {sensitivity:.4f}, Specificity: {specificity:.4f}\\nF1-Score: {f1_score:.4f}, MCC: {mcc:.4f}')"
   ]
  },
  {
   "cell_type": "code",
   "execution_count": 24,
   "id": "9b1fda04-3f58-4ca3-bb95-1cab505b8ca9",
   "metadata": {},
   "outputs": [
    {
     "name": "stdout",
     "output_type": "stream",
     "text": [
      "AUC: 0.9749\n"
     ]
    },
    {
     "data": {
      "image/png": "[encoded data removed]",
      "text/plain": [
       "<Figure size 640x480 with 1 Axes>"
      ]
     },
     "metadata": {},
     "output_type": "display_data"
    }
   ],
   "source": [
    "pre = np.array(pre).flatten()\n",
    "tar = np.array(tar, dtype=np.uint8).flatten()\n",
    "fpr, tpr, thresholds = roc_curve(tar, pre)\n",
    "\n",
    "plt.plot(fpr, tpr)\n",
    "plt.plot([0, 1], [0, 1])\n",
    "print(f'AUC: {roc_auc_score(tar, pre):.4f}')"
   ]
  },
  {
   "cell_type": "code",
   "execution_count": 25,
   "id": "80661ec8-ea9d-445b-b434-661e7480d92f",
   "metadata": {},
   "outputs": [],
   "source": [
    "np.save('./target_and_predict/unet_f1_tar', tar)\n",
    "np.save('./target_and_predict/unet_f1_pre', pre)"
   ]
  }
 ],
 "metadata": {
  "kernelspec": {
   "display_name": "Python 3 (ipykernel)",
   "language": "python",
   "name": "python3"
  },
  "language_info": {
   "codemirror_mode": {
    "name": "ipython",
    "version": 3
   },
   "file_extension": ".py",
   "mimetype": "text/x-python",
   "name": "python",
   "nbconvert_exporter": "python",
   "pygments_lexer": "ipython3",
   "version": "3.10.9"
  }
 },
 "nbformat": 4,
 "nbformat_minor": 5
}
